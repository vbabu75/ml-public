{
 "cells": [
  {
   "cell_type": "code",
   "execution_count": 4,
   "metadata": {},
   "outputs": [],
   "source": [
    "import numpy as np\n",
    "import pandas as pd\n",
    "import matplotlib.pyplot as plt\n",
    "from sklearn.metrics import mean_squared_error\n",
    "from sklearn.model_selection import train_test_split\n",
    "from sklearn.metrics import mean_squared_log_error\n",
    "from statsmodels.tsa.ar_model import AR\n",
    "from xgboost import XGBRegressor\n",
    "from datetime import datetime\n",
    "from datetime import timedelta\n",
    "from ortools.linear_solver import pywraplp\n",
    "from sklearn.linear_model import LinearRegression\n",
    "from sklearn.svm import SVR\n",
    "import common\n",
    "%matplotlib inline"
   ]
  },
  {
   "cell_type": "raw",
   "metadata": {
    "collapsed": true
   },
   "source": [
    "hd = pd.read_csv('historical_demand.csv')\n",
    "hd['pid'] = hd.Product_ID.apply(lambda x:int(x[1:]))\n",
    "hd['rid'] = hd.Region.apply(lambda x:int(x[1:]))\n",
    "hd = hd.sort_values(['pid','rid'])"
   ]
  },
  {
   "cell_type": "raw",
   "metadata": {},
   "source": [
    "print(hd.head())\n",
    "print(hd.tail())\n",
    "print(hd.dtypes)"
   ]
  },
  {
   "cell_type": "markdown",
   "metadata": {},
   "source": [
    "Let us try to see demand of one product in one region"
   ]
  },
  {
   "cell_type": "raw",
   "metadata": {
    "collapsed": true
   },
   "source": [
    "def show_autoregressive_plots(demand):\n",
    "    plt.figure(figsize=(12,5))\n",
    "    plt.subplot(121)\n",
    "    demand.plot()\n",
    "    plt.subplot(122)\n",
    "    pd.plotting.lag_plot(demand)\n",
    "    plt.show()\n",
    "    pd.plotting.autocorrelation_plot(demand)\n",
    "    plt.show()"
   ]
  },
  {
   "cell_type": "raw",
   "metadata": {},
   "source": [
    "with_data = hd.loc[hd.Demand>0,:]"
   ]
  },
  {
   "cell_type": "raw",
   "metadata": {},
   "source": [
    "with_data.sample(5)"
   ]
  },
  {
   "cell_type": "raw",
   "metadata": {},
   "source": [
    "p9r9 = hd[(hd.Product_ID=='P77') & (hd.Region=='R18')]\n",
    "print(p9r9.shape)\n",
    "demand = p9r9.Demand\n",
    "show_autoregressive_plots(demand)"
   ]
  },
  {
   "cell_type": "markdown",
   "metadata": {},
   "source": [
    "Hmm... There does not seem to be any significant correlation at the product-region level. Atleast for this combination. Let us try to plot the aggregate demand per product per month"
   ]
  },
  {
   "cell_type": "raw",
   "metadata": {},
   "source": [
    "p9 = hd[hd.Product_ID=='P15']\n",
    "demand = p9.groupby('Month').Demand.sum()\n",
    "show_autoregressive_plots(demand)"
   ]
  },
  {
   "cell_type": "markdown",
   "metadata": {},
   "source": [
    "This does not seem to have much auto correlation either. Finally let us try the entire product line and see if there is anything there"
   ]
  },
  {
   "cell_type": "raw",
   "metadata": {},
   "source": [
    "monthly_demand = hd.groupby('Month').Demand.sum()\n",
    "show_autoregressive_plots(monthly_demand)"
   ]
  },
  {
   "cell_type": "markdown",
   "metadata": {},
   "source": [
    "Hmm. We will have to try different algorithms to check what performs better for this dataset. First let us get the accuracy function as specified in the contest. This does a overall average as against the monthly average, but that should be fine."
   ]
  },
  {
   "cell_type": "raw",
   "metadata": {},
   "source": [
    "def forecast_accuracy(actual,pred):\n",
    "    actual = actual+1\n",
    "    pred = pred+1\n",
    "    return 1-np.sum((np.abs(actual-pred)/actual)*(actual/sum(actual)))\n",
    "\n",
    "def mape(actual,pred):\n",
    "    actual = actual+1\n",
    "    pred = pred+1\n",
    "    return np.mean(np.abs(actual-pred)/actual)\n",
    "\n",
    "print(\"Accuracy for identical values: \",forecast_accuracy(hd.Demand,hd.Demand))\n",
    "print(\"MAPE for identical values: \",mape(hd.Demand,hd.Demand))\n",
    "print(\"MSE for identical values: \",mean_squared_error(hd.Demand,hd.Demand))\n",
    "hd_off = hd.copy()\n",
    "hd_off.Demand = hd_off.Demand.apply(lambda x:x-1 if x > 1 else 0)\n",
    "print(\"Accuracy when off by 1: \",forecast_accuracy(hd.Demand,hd_off.Demand))\n",
    "print(\"MAPE when off by 1: \",mape(hd.Demand,hd_off.Demand))\n",
    "print(\"MSE when off by 1: \",mean_squared_error(hd.Demand,hd_off.Demand))\n",
    "hd_off = hd.copy()\n",
    "hd_off.Demand = hd_off.Demand.apply(lambda x:x-10 if x > 10 else 0)\n",
    "print(\"Accuracy when off by 10: \",forecast_accuracy(hd.Demand,hd_off.Demand))\n",
    "print(\"MAPE when off by 10: \",mape(hd.Demand,hd_off.Demand))\n",
    "print(\"MSE when off by 10: \",mean_squared_error(hd.Demand,hd_off.Demand))\n",
    "hd_off = hd.copy()\n",
    "hd_off.Demand = hd_off.Demand.apply(lambda x:x-20 if x > 20 else 0)\n",
    "print(\"Accuracy when off by 20: \",forecast_accuracy(hd.Demand,hd_off.Demand))\n",
    "print(\"MAPE when off by 20: \",mape(hd.Demand,hd_off.Demand))\n",
    "print(\"MSE when off by 20: \",mean_squared_error(hd.Demand,hd_off.Demand))\n",
    "hd_off = hd.copy()\n",
    "hd_off.Demand = hd_off.Demand.apply(lambda x:x-1000 if x > 1000 else 0)\n",
    "print(\"Accuracy when off by 1000: \",forecast_accuracy(hd.Demand,hd_off.Demand))\n",
    "print(\"MAPE when off by 1000: \",mape(hd.Demand,hd_off.Demand))\n",
    "print(\"MSE when off by 1000: \",mean_squared_error(hd.Demand,hd_off.Demand))\n"
   ]
  },
  {
   "cell_type": "code",
   "execution_count": 5,
   "metadata": {},
   "outputs": [
    {
     "name": "stdout",
     "output_type": "stream",
     "text": [
      "[ 1.  2.  3.  4.  1.  2.  3.  4.  1.  2.]\n"
     ]
    }
   ],
   "source": [
    "class ARWrapper():\n",
    "    def __init__(self,silent=False):\n",
    "        self.model = None\n",
    "        self.model_fit = None\n",
    "        self.silent = silent\n",
    "    def fit(self,train):\n",
    "        self.train_len = len(train)\n",
    "        self.model = AR(train,freq='Q')\n",
    "        self.model_fit = self.model.fit(ic='bic',maxiter=100)\n",
    "        if(self.silent==False):\n",
    "            print('Lag: %s' % self.model_fit.k_ar)\n",
    "            print('Coefficients: %s' % self.model_fit.params)        \n",
    "    def predict(self,test_len):\n",
    "        pred = self.model_fit.predict(start=self.train_len,end=self.train_len+test_len-1,dynamic=False)\n",
    "        return pred\n",
    "\n",
    "my_ar = ARWrapper(silent=True)\n",
    "my_ar.fit([1,2,3,4,1,2,3,4,1,2,3,4,1,2,3,4])\n",
    "print(my_ar.predict(10))"
   ]
  },
  {
   "cell_type": "raw",
   "metadata": {},
   "source": [
    "def evaluate_ar_model(trainX,valX):\n",
    "    #Predict for every product region pair\n",
    "    tpred=[]\n",
    "    tactual=[]\n",
    "    for pidx in range(1,82):\n",
    "        product = 'P'+str(pidx)\n",
    "        for ridx in range(1,19):\n",
    "            region = 'R'+str(ridx)\n",
    "            train_demand = trainX[(trainX.Product_ID==product) & (trainX.Region==region)].Demand.values\n",
    "            val_demand = valX[(valX.Product_ID==product) & (valX.Region==region)].Demand.values\n",
    "            tactual.extend(list(val_demand))\n",
    "            ar = ARWrapper(silent=True)\n",
    "            ar.fit(train_demand)\n",
    "            pred = ar.predict(3)\n",
    "            tpred.extend(list(pred))\n",
    "        print('.',end='')\n",
    "    print(' ')\n",
    "    print(\"Accuracy =\",forecast_accuracy(pd.Series(tactual),pd.Series(tpred)))\n",
    "    print(\"MAPE =\",mape(pd.Series(tactual),pd.Series(tpred)))\n",
    "    print(\"MSE =\",mean_squared_error(pd.Series(tactual),pd.Series(tpred)))\n",
    "    return tpred\n",
    "trainX = hd[hd.Month < 34].copy()\n",
    "valX = hd[hd.Month >=34].copy()\n",
    "tpred = evaluate_ar_model(trainX,valX)\n",
    "#for i in range(18*3*8,18*3*9):\n",
    "#    print(valX.iloc[i].Demand,tpred[i])"
   ]
  },
  {
   "cell_type": "markdown",
   "metadata": {},
   "source": [
    "The accuracy is pathetic with the AR model. As we saw anectodically prior to running the model, current demand does not seem to depend on previous values. Let us try some other non-time-series models. "
   ]
  },
  {
   "cell_type": "code",
   "execution_count": 76,
   "metadata": {
    "collapsed": true
   },
   "outputs": [],
   "source": [
    "def fit_and_predict_non_ts(train,test):\n",
    "    train['pid'] = train.Product_ID.apply(lambda x:int(x[1:]))\n",
    "    train['rid'] = train.Region.apply(lambda x:int(x[1:]))\n",
    "    test['pid'] = test.Product_ID.apply(lambda x:int(x[1:]))\n",
    "    test['rid'] = test.Region.apply(lambda x:int(x[1:]))\n",
    "    train = train.sort_values(['Month','pid','rid'])\n",
    "    test = test.sort_values(['Month','pid','rid'])\n",
    "    combined = pd.concat([train,test],axis=0)\n",
    "    combined['d3'] = combined.Demand.shift(3*18*81)\n",
    "    combined['d4'] = combined.Demand.shift(4*18*81)\n",
    "    combined['d5'] = combined.Demand.shift(5*18*81)\n",
    "    combined['d6'] = combined.Demand.shift(6*18*81)\n",
    "#     combined['d7'] = combined.Demand.shift(7*18*81)\n",
    "#     combined['d8'] = combined.Demand.shift(8*18*81)    \n",
    "#     combined['d9'] = combined.Demand.shift(9*18*81)    \n",
    "#     combined['d10'] = combined.Demand.shift(10*18*81)    \n",
    "#     combined['d11'] = combined.Demand.shift(11*18*81)    \n",
    "#     combined['d12'] = combined.Demand.shift(12*18*81)    \n",
    "#     combined['d13'] = combined.Demand.shift(13*18*81)    \n",
    "    train = combined.iloc[:len(train)].copy()\n",
    "    test = combined.iloc[len(train):].copy()\n",
    "    exclude_features=['Product_ID','Region','Demand','Month']\n",
    "    model = XGBRegressor()\n",
    "    #model = LinearRegression()\n",
    "    vtrain = train\n",
    "    #vtrain = train.loc[train.d13.notnull()]\n",
    "    model.fit(vtrain[list(set(vtrain.columns)-set(exclude_features))],vtrain.Demand)\n",
    "    pred = model.predict(test[list(set(test.columns)-set(exclude_features))])\n",
    "    test['Demand'] = pred\n",
    "    return test\n",
    "    \n",
    "    \n",
    "    #bfhd = pd.concat([bfhd,pd.get_dummies(bfhd.Product_ID)],axis=1)\n",
    "    #bfhd = pd.concat([bfhd,pd.get_dummies(bfhd.Region)],axis=1)\n",
    "\n",
    "#     bfhd = bfhd.sort_values(['pid','rid'])\n",
    "#     exclude_features=['Product_ID','Region','Demand','Month']\n",
    "\n",
    "#     trainX = bfhd[bfhd.Month < 34].copy()\n",
    "#     valX = bfhd[bfhd.Month >=34].copy()\n",
    "#     model = XGBRegressor()\n",
    "#     model.fit(trainX[list(set(trainX.columns)-set(exclude_features))],trainX.Demand)\n",
    "#     pred = model.predict(valX[list(set(valX.columns)-set(exclude_features))])\n",
    "#     print(\"Accuracy = \",forecast_accuracy(pd.Series(valX.Demand),pd.Series(pred)))\n",
    "#     print(\"MAPE = \",mape(pd.Series(valX.Demand),pd.Series(pred)))\n",
    "#     print(\"MSE = \",mean_squared_error(pd.Series(valX.Demand),pd.Series(pred)))\n",
    "#    return test"
   ]
  },
  {
   "cell_type": "code",
   "execution_count": 9,
   "metadata": {},
   "outputs": [
    {
     "name": "stdout",
     "output_type": "stream",
     "text": [
      "1,1   -  100.0\n",
      "1,0   -  0.0\n",
      "1,0.5 -  50.0\n",
      "1,5 -  0.0\n",
      "1,1   -  100.0\n",
      "1,0   -  88.89\n",
      "1,0.5 -  94.44\n",
      "1,5 -  55.56\n"
     ]
    }
   ],
   "source": [
    "def wape(actual,pred):\n",
    "    monthly_accuracies=[]\n",
    "    for month in actual.Month.unique():\n",
    "        pactual = actual.loc[(actual.Demand>0)&(actual.Month==month),:]\n",
    "        ppred = pred.loc[(actual.Demand>0)&(actual.Month==month),:]\n",
    "        monthly_total = pactual.Demand.sum()\n",
    "        perr = np.abs(pactual.Demand-ppred.Demand)/pactual.Demand\n",
    "        weight = pactual.Demand/monthly_total\n",
    "        weighted_mape = perr*weight\n",
    "        monthly_accuracy = (1-weighted_mape).mean()\n",
    "        #print(month,monthly_total,monthly_accuracy)\n",
    "        monthly_accuracies.append(monthly_accuracy)\n",
    "    mean_monthly_accuracy = np.mean(monthly_accuracies)\n",
    "    total_accuracy = mean_monthly_accuracy*100\n",
    "    return abs(total_accuracy.round(2))\n",
    "\n",
    "def total_accuracy(actual,pred):\n",
    "    actual = actual.sort_values(['Product_ID','Region','Month'])\n",
    "    pred = pred.sort_values(['Product_ID','Region','Month'])\n",
    "    monthly_accuracies=[]\n",
    "    for month in actual.Month.unique():\n",
    "        pactual = actual.loc[(actual.Demand>0)&(actual.Month==month),:]\n",
    "        ppred = pred.loc[(actual.Demand>0)&(actual.Month==month),:]\n",
    "        monthly_total = pactual.Demand.sum()\n",
    "        weight = pactual.Demand/monthly_total\n",
    "        abs_err =np.abs(pactual.Demand-ppred.Demand)\n",
    "        monthly_mape = sum(weight*abs_err)/sum(weight*pactual.Demand)\n",
    "        monthly_accuracy = max(1-monthly_mape,0)\n",
    "        #print(month, monthly_total,monthly_accuracy)\n",
    "        monthly_accuracies.append(monthly_accuracy)\n",
    "    mean_monthly_accuracy = np.mean(monthly_accuracies)\n",
    "    total_accuracy = mean_monthly_accuracy*100\n",
    "    return abs(total_accuracy.round(2))\n",
    "        \n",
    "def gen_df(val_fn):\n",
    "    products=[]\n",
    "    regions=[]\n",
    "    months=[]\n",
    "    demands=[]\n",
    "    for product in ['P1','P2','P3']:\n",
    "        for region in ['R1','R2','R3']:\n",
    "            for month in range(37,40):\n",
    "                products.append(product)\n",
    "                regions.append(region)\n",
    "                months.append(month)\n",
    "                demands.append(val_fn(product,region,month))\n",
    "    df = pd.DataFrame({'Product_ID':products,'Region':regions,'Month':months,'Demand':demands})\n",
    "    df = df[['Product_ID','Region','Month','Demand']]\n",
    "    return df\n",
    "\n",
    "print('1,1   - ',total_accuracy(gen_df(lambda a,b,c:1),gen_df(lambda a,b,c,:1)))\n",
    "print('1,0   - ',total_accuracy(gen_df(lambda a,b,c:1),gen_df(lambda a,b,c,:0)))\n",
    "print('1,0.5 - ',total_accuracy(gen_df(lambda a,b,c:1),gen_df(lambda a,b,c,:0.5)))\n",
    "print('1,5 - ',total_accuracy(gen_df(lambda a,b,c:1),gen_df(lambda a,b,c,:5)))\n",
    "\n",
    "#df = gen_df(lambda a,b,c:np.random.randint(0,10))\n",
    "print('1,1   - ',wape(gen_df(lambda a,b,c:1),gen_df(lambda a,b,c,:1)))\n",
    "print('1,0   - ',wape(gen_df(lambda a,b,c:1),gen_df(lambda a,b,c,:0)))\n",
    "print('1,0.5 - ',wape(gen_df(lambda a,b,c:1),gen_df(lambda a,b,c,:0.5)))\n",
    "print('1,5 - ',wape(gen_df(lambda a,b,c:1),gen_df(lambda a,b,c,:5)))\n",
    "\n"
   ]
  },
  {
   "cell_type": "code",
   "execution_count": 10,
   "metadata": {
    "collapsed": true
   },
   "outputs": [],
   "source": [
    "def fit_and_predict(train,test):\n",
    "    products =[]\n",
    "    regions=[]\n",
    "    for i in range(1,82):\n",
    "        products.append('P'+str(i))\n",
    "    for i in range(1,19):\n",
    "        regions.append('R'+str(i))\n",
    "    \n",
    "    train = train.sort_values(['Product_ID','Region'])\n",
    "    test = test.sort_values(['Product_ID','Region'])\n",
    "    for product in products:\n",
    "        for region in regions:\n",
    "            strain = train[(train.Product_ID==product)&(train.Region==region)]\n",
    "            stest = test[(test.Product_ID==product)&(test.Region==region)]\n",
    "            train_demand = strain.Demand.values\n",
    "            ar = ARWrapper(silent=True)\n",
    "            ar.fit(train_demand)\n",
    "            pred = ar.predict(3)\n",
    "            test.loc[(test.Product_ID==product)&(test.Region==region),'Demand']=pred\n",
    "    return test"
   ]
  },
  {
   "cell_type": "code",
   "execution_count": 77,
   "metadata": {},
   "outputs": [
    {
     "name": "stdout",
     "output_type": "stream",
     "text": [
      "Train 1-24 Test 25-27 Accuracy: 91.24 MSE:86297.6672799045\n",
      "Train 1-27 Test 28-30 Accuracy: 76.19 MSE:130229.00928539019\n",
      "Train 1-30 Test 31-33 Accuracy: 67.72 MSE:75075.52227497667\n",
      "Train 1-33 Test 34-36 Accuracy: 61.81 MSE:70890.58680547877\n"
     ]
    }
   ],
   "source": [
    "his_dem = pd.read_csv('historical_demand.csv')\n",
    "for till_month in range(24,36,3):\n",
    "    train = his_dem.loc[his_dem.Month <= till_month,:].copy()\n",
    "    test = his_dem.loc[(his_dem.Month > till_month) & (his_dem.Month <= till_month+3),:].copy()\n",
    "    test_copy = test.copy()\n",
    "    test.Demand = 0\n",
    "    pred = fit_and_predict_non_ts(train,test)\n",
    "    #pred = fit_and_predict(train,test)\n",
    "    print(\"Train 1-{} Test {}-{} Accuracy: {} MSE:{}\".format(till_month,till_month+1,till_month+3,\n",
    "                total_accuracy(test_copy,pred),mean_squared_error(test_copy.Demand,pred.Demand)))\n",
    "    "
   ]
  },
  {
   "cell_type": "raw",
   "metadata": {},
   "source": [
    "hd = pd.read_csv('historical_demand.csv')\n",
    "rhd = hd.loc[hd.Demand>0,:]\n",
    "rhd.sample(10)\n",
    "rhd.loc[rhd.Product_ID=='P19',:].groupby('Month').Demand.sum()"
   ]
  },
  {
   "cell_type": "code",
   "execution_count": null,
   "metadata": {},
   "outputs": [],
   "source": []
  },
  {
   "cell_type": "code",
   "execution_count": null,
   "metadata": {},
   "outputs": [],
   "source": []
  },
  {
   "cell_type": "code",
   "execution_count": null,
   "metadata": {},
   "outputs": [],
   "source": []
  },
  {
   "cell_type": "code",
   "execution_count": null,
   "metadata": {
    "collapsed": true
   },
   "outputs": [],
   "source": []
  },
  {
   "cell_type": "code",
   "execution_count": null,
   "metadata": {},
   "outputs": [],
   "source": []
  },
  {
   "cell_type": "code",
   "execution_count": null,
   "metadata": {
    "collapsed": true
   },
   "outputs": [],
   "source": []
  }
 ],
 "metadata": {
  "kernelspec": {
   "display_name": "Python 3",
   "language": "python",
   "name": "python3"
  },
  "language_info": {
   "codemirror_mode": {
    "name": "ipython",
    "version": 3
   },
   "file_extension": ".py",
   "mimetype": "text/x-python",
   "name": "python",
   "nbconvert_exporter": "python",
   "pygments_lexer": "ipython3",
   "version": "3.6.1"
  }
 },
 "nbformat": 4,
 "nbformat_minor": 2
}
