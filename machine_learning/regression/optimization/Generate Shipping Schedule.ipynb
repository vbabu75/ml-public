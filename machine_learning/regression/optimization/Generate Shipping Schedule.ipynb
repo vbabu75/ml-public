{
 "cells": [
  {
   "cell_type": "code",
   "execution_count": 1,
   "metadata": {
    "collapsed": true
   },
   "outputs": [],
   "source": [
    "import common\n",
    "import numpy as np\n",
    "import pandas as pd"
   ]
  },
  {
   "cell_type": "code",
   "execution_count": 7,
   "metadata": {
    "collapsed": true
   },
   "outputs": [],
   "source": [
    "def generate_shipping_schedule(dfs):\n",
    "    pro_cap = dfs['pro_cap']\n",
    "    dem_for = dfs['dem_for']\n",
    "    dem_pri = dfs['dem_pri']\n",
    "    del_cos = dfs\n",
    "    regions=[]\n",
    "    product_ids=[]\n",
    "    shipping_entries=[]\n",
    "    lines = {'A':[1,2],'B':[1,2,3],'C':[1]}\n",
    "    for region_id in range(1,19):\n",
    "        regions.append('R'+str(region_id))\n",
    "    for product_index in range(1,82):\n",
    "        product_ids.append('P'+str(product_index))\n",
    "    man_seq_df = pd.read_csv('manufacture_sequence.csv')\n",
    "    for month in range(37,40):\n",
    "        monthly_seq = man_seq_df[man_seq_df.Month==month]\n",
    "        for plant in ['A','B','C']:\n",
    "            plant_seq = monthly_seq[monthly_seq.Plant==plant]\n",
    "            product_shipping_details={}\n",
    "            for product in product_ids:\n",
    "                #Get the total production of the product at this plant\n",
    "                product_shipping_details[product]={}\n",
    "                total_production=0\n",
    "                for line in lines[plant]:\n",
    "                    line_name=plant+str(line)\n",
    "                    no_of_days = len(plant_seq[(plant_seq.Line==line) & (plant_seq.Product_ID==product)])\n",
    "                    if no_of_days != 0:\n",
    "                        line_capacity = pro_cap[(pro_cap.Plant==plant) & \n",
    "                            (pro_cap.Line==line) & (pro_cap.Product==product)].Capacity.values[0]\n",
    "                        quantity_produced=no_of_days*line_capacity\n",
    "                        total_production += quantity_produced\n",
    "                #Identify most lucrative region to send and send product till finished\n",
    "                demand = dem_for[(dem_for.Product_ID==product) &\n",
    "                        (dem_for.Month==month) & (dem_for.Demand > 0)]\n",
    "                region_dem_details=[]\n",
    "                for region in demand.Region.values:\n",
    "                    region_dem_details.append({'Region':region,\n",
    "                        'Demand':demand[demand.Region==region].Demand.values[0]})\n",
    "                for record in region_dem_details:\n",
    "                    record['Profit']=common.get_profit(product,line_name,month,dfs)\n",
    "                region_dem_details.sort(key=lambda x:x['Profit'],reverse=True)\n",
    "                quantity_left = total_production\n",
    "                index =0\n",
    "                while quantity_left > 0:\n",
    "                    if index == len(region_dem_details):\n",
    "                        break\n",
    "                    quantity_to_ship = min(quantity_left,region_dem_details[index]['Demand'])\n",
    "                    product_shipping_details[product][region_dem_details[index]['Region']]=quantity_to_ship\n",
    "                    region_dem_details[index]['Quantity_Shipped']=quantity_to_ship\n",
    "                    quantity_left -= quantity_to_ship\n",
    "                    index += 1                \n",
    "            for region in regions:\n",
    "                for product in product_ids:\n",
    "                    ship_quantity=0\n",
    "                    if product in product_shipping_details:\n",
    "                        if region in product_shipping_details[product]:\n",
    "                            ship_quantity = round(product_shipping_details[product][region],2)\n",
    "                    shipping_entries.append([plant,region,product,month,ship_quantity])\n",
    "\n",
    "    sedf = pd.DataFrame(shipping_entries)\n",
    "    sedf.columns=['Plant','Region','Product_ID','Month','Shipping_to_region_quantity']\n",
    "    sedf.to_csv('shipping_region.csv',index=False)\n",
    "    print('Done writing file shipping_region.csv')"
   ]
  },
  {
   "cell_type": "code",
   "execution_count": 8,
   "metadata": {},
   "outputs": [
    {
     "name": "stdout",
     "output_type": "stream",
     "text": [
      "Done writing file shipping_region.csv\n"
     ]
    }
   ],
   "source": [
    "dfs = common.read_csvs()\n",
    "generate_shipping_schedule(dfs)"
   ]
  },
  {
   "cell_type": "code",
   "execution_count": 6,
   "metadata": {},
   "outputs": [
    {
     "data": {
      "text/plain": [
       "2.0"
      ]
     },
     "execution_count": 6,
     "metadata": {},
     "output_type": "execute_result"
    }
   ],
   "source": [
    "round(2.0001,2)"
   ]
  },
  {
   "cell_type": "code",
   "execution_count": null,
   "metadata": {
    "collapsed": true
   },
   "outputs": [],
   "source": []
  }
 ],
 "metadata": {
  "kernelspec": {
   "display_name": "Python 3",
   "language": "python",
   "name": "python3"
  },
  "language_info": {
   "codemirror_mode": {
    "name": "ipython",
    "version": 3
   },
   "file_extension": ".py",
   "mimetype": "text/x-python",
   "name": "python",
   "nbconvert_exporter": "python",
   "pygments_lexer": "ipython3",
   "version": "3.6.1"
  }
 },
 "nbformat": 4,
 "nbformat_minor": 2
}
