{
 "cells": [
  {
   "cell_type": "code",
   "execution_count": 4,
   "metadata": {},
   "outputs": [],
   "source": [
    "import numpy as np\n",
    "import pandas as pd\n",
    "import matplotlib.pyplot as plt\n",
    "from sklearn.metrics import mean_squared_error\n",
    "from sklearn.model_selection import train_test_split\n",
    "from sklearn.metrics import mean_squared_log_error\n",
    "from statsmodels.tsa.ar_model import AR\n",
    "from xgboost import XGBRegressor\n",
    "from datetime import datetime\n",
    "from datetime import timedelta\n",
    "import common\n",
    "%matplotlib inline"
   ]
  },
  {
   "cell_type": "code",
   "execution_count": 7,
   "metadata": {},
   "outputs": [
    {
     "name": "stdout",
     "output_type": "stream",
     "text": [
      "[ 1.  2.  3.  4.  1.  2.  3.  4.  1.  2.]\n"
     ]
    }
   ],
   "source": [
    "class ARWrapper():\n",
    "    def __init__(self,silent=False):\n",
    "        self.model = None\n",
    "        self.model_fit = None\n",
    "        self.silent = silent\n",
    "    def fit(self,train):\n",
    "        self.train_len = len(train)\n",
    "        self.model = AR(train)\n",
    "        self.model_fit = self.model.fit(ic='bic',maxiter=100)\n",
    "        if(self.silent==False):\n",
    "            print('Lag: %s' % self.model_fit.k_ar)\n",
    "            print('Coefficients: %s' % self.model_fit.params)        \n",
    "    def predict(self,test_len):\n",
    "        pred = self.model_fit.predict(start=self.train_len,end=self.train_len+test_len-1,dynamic=False)\n",
    "        return pred\n",
    "\n",
    "my_ar = ARWrapper(silent=True)\n",
    "my_ar.fit([1,2,3,4,1,2,3,4,1,2,3,4,1,2,3,4])\n",
    "print(my_ar.predict(10))"
   ]
  },
  {
   "cell_type": "code",
   "execution_count": 10,
   "metadata": {},
   "outputs": [
    {
     "name": "stderr",
     "output_type": "stream",
     "text": [
      "/Users/venkatesh/anaconda/lib/python3.6/site-packages/statsmodels/tsa/ar_model.py:770: RuntimeWarning: divide by zero encountered in log\n",
      "  return np.log(self.sigma2) + (1 + self.df_model) * np.log(nobs)/nobs\n"
     ]
    },
    {
     "name": "stdout",
     "output_type": "stream",
     "text": [
      ".................................................................................Done creating demand_forecast.csv\n"
     ]
    }
   ],
   "source": [
    "def generate_demand_submission():\n",
    "    hd = pd.read_csv('historical_demand.csv')\n",
    "    hd['pid'] = hd.Product_ID.apply(lambda x:int(x[1:]))\n",
    "    hd['rid'] = hd.Region.apply(lambda x:int(x[1:]))\n",
    "    hd = hd.sort_values(['pid','rid'])\n",
    "    #Predict for every product region pair\n",
    "    tproduct=[]\n",
    "    tregion=[]\n",
    "    tmonth=[]\n",
    "    tdemand=[]\n",
    "    for pidx in range(1,82):\n",
    "        product = 'P'+str(pidx)\n",
    "        for ridx in range(1,19):\n",
    "            region = 'R'+str(ridx)\n",
    "            train_demand = hd[(hd.Product_ID==product) & (hd.Region==region)].Demand.values\n",
    "            ar = ARWrapper(silent=True)\n",
    "            ar.fit(train_demand)\n",
    "            pred = ar.predict(3)\n",
    "            tdemand.extend(list(pred))\n",
    "            tproduct.extend([product]*3)\n",
    "            tregion.extend([region]*3)\n",
    "            tmonth.extend([37,38,39])\n",
    "        print('.',end='')\n",
    "    df = pd.DataFrame()\n",
    "    df['Product_ID']=tproduct\n",
    "    df['Region']=tregion\n",
    "    df['Month']=tmonth\n",
    "    df['Demand']=tdemand\n",
    "    df = df.sort_values(['Product_ID','Region','Month'])\n",
    "    df.to_csv('demand_forecast.csv',index=False)\n",
    "    print(\"Done creating demand_forecast.csv\")\n",
    "generate_demand_submission()"
   ]
  },
  {
   "cell_type": "code",
   "execution_count": 87,
   "metadata": {},
   "outputs": [
    {
     "name": "stdout",
     "output_type": "stream",
     "text": [
      "Reduced demand from  65800.69799033992 to 60703.79053142524 7.745977800513521 %\n"
     ]
    }
   ],
   "source": [
    "def prune_low_quantities(minimum):\n",
    "    dem_for = pd.read_csv('demand_forecast.csv')\n",
    "    old_demand = dem_for.Demand.sum()\n",
    "    monthly_demand = dem_for.groupby(['Product_ID','Month']).Demand.sum()\n",
    "    low_monthly_demand = monthly_demand[(monthly_demand > 0) & (monthly_demand < minimum)]\n",
    "    low_monthly_demand = pd.DataFrame(low_monthly_demand)\n",
    "    low_monthly_demand.reset_index(inplace=True)\n",
    "    for index,row in low_monthly_demand.iterrows():\n",
    "        dem_for.loc[(dem_for.Product_ID==row.Product_ID) &(dem_for.Month==row.Month),'Demand']=0\n",
    "    dem_for.to_csv('demand_forecast.csv',index=False)\n",
    "    new_demand = dem_for.Demand.sum()\n",
    "    print(\"Reduced demand from \",old_demand,\"to\",new_demand,(old_demand-new_demand)*100/old_demand,\"%\")\n",
    "prune_low_quantities(150)    "
   ]
  },
  {
   "cell_type": "code",
   "execution_count": 89,
   "metadata": {},
   "outputs": [],
   "source": [
    "def aggregate_low_demands(upper_limit):\n",
    "    dem_for = pd.read_csv('demand_forecast.csv')\n",
    "    pro_cap = pd.read_csv('production_capacity.csv')\n",
    "    pro_cos = pd.read_csv('production_cost.csv')\n",
    "    dem_pri = pd.read_csv('demand_price.csv')\n",
    "\n",
    "    \n",
    "    monthly_demand = dem_for.groupby(['Product_ID','Month']).Demand.sum()\n",
    "    monthly_demand = monthly_demand.reset_index()\n",
    "    max_cap = pro_cap.groupby('Product').Capacity.max()\n",
    "    for product,capacity in max_cap.iteritems():\n",
    "        monthly_demand.loc[monthly_demand.Product_ID==product,'Capacity']=capacity\n",
    "    monthly_demand['percent_demand'] = monthly_demand.Demand/monthly_demand.Capacity\n",
    "    low_demand_products = monthly_demand[(monthly_demand.percent_demand > 0) & (monthly_demand.percent_demand < upper_limit)]\n",
    "    \n",
    "    monthly_demand['LowProfit']=0\n",
    "    demands = dem_for.groupby('Product_ID').Demand.sum()\n",
    "    capacities = pro_cap.groupby('Product').Capacity.max()\n",
    "    prod_costs = pro_cos.groupby('Product_ID').Production_cost.max()\n",
    "    prices = dem_pri.groupby('Product_ID').Demand_price.max()\n",
    "    for product in monthly_demand.Product_ID.unique():\n",
    "        demand = demands[product]\n",
    "        if demand == 0:\n",
    "            monthly_demand.loc[monthly_demand.Product_ID==product,'PPD']=0\n",
    "            monthly_demand.loc[monthly_demand.Product_ID==product,'LowProfit']=0            \n",
    "            continue\n",
    "        capacity = capacities[product]\n",
    "        if capacity == 0:\n",
    "            monthly_demand.loc[monthly_demand.Product_ID==product,'PPD']=0\n",
    "            monthly_demand.loc[monthly_demand.Product_ID==product,'LowProfit']=0            \n",
    "            continue\n",
    "        if demand/capacity < 2:\n",
    "            monthly_demand.loc[monthly_demand.Product_ID==product,'PPD']=0\n",
    "            monthly_demand.loc[monthly_demand.Product_ID==product,'LowProfit']=0            \n",
    "            continue\n",
    "        prod_cost = prod_costs[product]\n",
    "        price = prices[product]\n",
    "        profit_per_day = ((price-prod_cost)*demand)/(demand/capacity)\n",
    "        monthly_demand.loc[monthly_demand.Product_ID==product,'PPD']=round(profit_per_day)\n",
    "#         if profit_per_day < 80000:\n",
    "#             monthly_demand.loc[monthly_demand.Product_ID==product,'LowProfit']=1\n",
    "#         else:\n",
    "#             monthly_demand.loc[monthly_demand.Product_ID==product,'LowProfit']=0\n",
    "        \n",
    "    monthly_demand['Aggregated']=0\n",
    "#     low_demand_product_ids=low_demand_products.Product_ID\n",
    "#     for product in low_demand_product_ids.unique():\n",
    "#         if len(low_demand_products[low_demand_products.Product_ID==product]==3):\n",
    "#             mpd = monthly_demand[monthly_demand.Product_ID==product]\n",
    "#             total_demand = (mpd[mpd.Month==37].Demand.values[0]+\n",
    "#                         mpd[mpd.Month==38].Demand.values[0]+mpd[mpd.Month==39].Demand.values[0])\n",
    "#             monthly_demand.loc[(monthly_demand.Product_ID==product)\n",
    "#                                &(monthly_demand.Month==37),'Demand'] = total_demand\n",
    "#             monthly_demand.loc[(monthly_demand.Product_ID==product)\n",
    "#                                &(monthly_demand.Month==37),'Aggregated'] = 1            \n",
    "#             monthly_demand.loc[(monthly_demand.Product_ID==product)\n",
    "#                                &(monthly_demand.Month==38),'Demand'] = 0\n",
    "#             monthly_demand.loc[(monthly_demand.Product_ID==product)\n",
    "#                                &(monthly_demand.Month==39),'Demand'] = 0\n",
    "    monthly_demand = monthly_demand.drop(['Capacity','percent_demand','PPD'],axis=1)\n",
    "    monthly_demand.to_csv('modified_demand_forecast.csv',index=False)\n",
    "\n",
    "\n",
    "aggregate_low_demands(0.75)"
   ]
  },
  {
   "cell_type": "code",
   "execution_count": 57,
   "metadata": {},
   "outputs": [],
   "source": []
  },
  {
   "cell_type": "code",
   "execution_count": 62,
   "metadata": {
    "scrolled": true
   },
   "outputs": [],
   "source": []
  },
  {
   "cell_type": "code",
   "execution_count": null,
   "metadata": {},
   "outputs": [],
   "source": []
  },
  {
   "cell_type": "code",
   "execution_count": 44,
   "metadata": {},
   "outputs": [],
   "source": []
  },
  {
   "cell_type": "code",
   "execution_count": 45,
   "metadata": {},
   "outputs": [],
   "source": []
  },
  {
   "cell_type": "code",
   "execution_count": 46,
   "metadata": {},
   "outputs": [],
   "source": []
  },
  {
   "cell_type": "code",
   "execution_count": null,
   "metadata": {},
   "outputs": [],
   "source": []
  },
  {
   "cell_type": "code",
   "execution_count": null,
   "metadata": {
    "collapsed": true
   },
   "outputs": [],
   "source": []
  }
 ],
 "metadata": {
  "kernelspec": {
   "display_name": "Python 3",
   "language": "python",
   "name": "python3"
  },
  "language_info": {
   "codemirror_mode": {
    "name": "ipython",
    "version": 3
   },
   "file_extension": ".py",
   "mimetype": "text/x-python",
   "name": "python",
   "nbconvert_exporter": "python",
   "pygments_lexer": "ipython3",
   "version": "3.6.1"
  }
 },
 "nbformat": 4,
 "nbformat_minor": 2
}
