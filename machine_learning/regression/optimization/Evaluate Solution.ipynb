{
 "cells": [
  {
   "cell_type": "code",
   "execution_count": 1,
   "metadata": {
    "collapsed": true
   },
   "outputs": [],
   "source": [
    "import pandas as pd\n",
    "import numpy as np\n",
    "import common"
   ]
  },
  {
   "cell_type": "code",
   "execution_count": 2,
   "metadata": {
    "collapsed": true
   },
   "outputs": [],
   "source": [
    "def calculate_changeover_cost():\n",
    "    man_seq = pd.read_csv('manufacture_sequence.csv')\n",
    "    lines=['A1','A2','B1','B2','B3','C1']\n",
    "    changeover_costs = {'A1':33536,'A2':15947,'B1':13333,'B2':13333,'B3':13333,'C1':54353.39}\n",
    "    total_changeover_cost=0\n",
    "    for line in lines:\n",
    "        plant = line[0]\n",
    "        line_no = int(line[1])\n",
    "        line_seq = man_seq[(man_seq.Plant==plant) & (man_seq.Line==line_no)]\n",
    "        curr_prod = None\n",
    "        changes=0\n",
    "        for index,row in line_seq.iterrows():\n",
    "            product = row.Product_ID\n",
    "            if product != curr_prod and not pd.isnull(product):\n",
    "                if curr_prod != None:\n",
    "                    changes += 1\n",
    "                curr_prod = product\n",
    "        total_changeover_cost += changes*changeover_costs[line]\n",
    "    return total_changeover_cost"
   ]
  },
  {
   "cell_type": "code",
   "execution_count": 3,
   "metadata": {
    "collapsed": true
   },
   "outputs": [],
   "source": [
    "def calculate_production_cost():\n",
    "    man_seq = pd.read_csv('manufacture_sequence.csv')  \n",
    "    pro_cos = pd.read_csv('production_cost.csv')\n",
    "    pro_cap = pd.read_csv('production_capacity.csv')\n",
    "    \n",
    "    lines=['A1','A2','B1','B2','B3','C1']\n",
    "    total_prod_cost=0\n",
    "    for line in lines:\n",
    "        plant=line[0]\n",
    "        line_no = int(line[1])\n",
    "        line_seq = man_seq[(man_seq.Plant==plant) & (man_seq.Line==line_no)]\n",
    "        for month in range(37,40):\n",
    "            month_seq = line_seq[(line_seq.Month==month)]\n",
    "            for product,days in month_seq.groupby('Product_ID').Product_ID.count().iteritems():\n",
    "                capacity = pro_cap[(pro_cap.Plant==plant)&\n",
    "                    (pro_cap.Line==line_no) &(pro_cap.Product==product)].Capacity.values[0]\n",
    "                pot_prod = capacity*days\n",
    "                cost_per_mt = pro_cos[(pro_cos.Product_ID==product) &\n",
    "                                     (pro_cos.Plant==plant)].Production_cost.values[0]\n",
    "                total_prod_cost += pot_prod*cost_per_mt\n",
    "    return total_prod_cost"
   ]
  },
  {
   "cell_type": "code",
   "execution_count": 4,
   "metadata": {
    "collapsed": true
   },
   "outputs": [],
   "source": [
    "def calculate_delivery_cost():\n",
    "    shi_reg = pd.read_csv('shipping_region.csv')\n",
    "    del_cos = pd.read_csv('delivery_cost.csv')\n",
    "    regions=[]\n",
    "    for i in range(1,19):\n",
    "        regions.append('R'+str(i))\n",
    "    products=[]\n",
    "    for i in range(1,82):\n",
    "        products.append('P'+str(i))\n",
    "    total_delivery_cost=0\n",
    "    for plant in ['A','B','C']:\n",
    "        for region in regions:\n",
    "            region_shipments = shi_reg[(shi_reg.Plant==plant) &\n",
    "                (shi_reg.Region==region)].Shipping_to_region_quantity.sum()\n",
    "            del_cost = del_cos[(del_cos.Plant==plant) &\n",
    "                              (del_cos.Region==region)].Delivery_cost.values[0]\n",
    "            total_delivery_cost += (region_shipments*del_cost)\n",
    "    return total_delivery_cost"
   ]
  },
  {
   "cell_type": "code",
   "execution_count": 5,
   "metadata": {
    "collapsed": true
   },
   "outputs": [],
   "source": [
    "def calculate_cost():\n",
    "    fixed_cost=(33536+15947+13333+13333+13333+54353.39)*90\n",
    "    changeover_cost=calculate_changeover_cost()\n",
    "    production_cost=calculate_production_cost()\n",
    "    delivery_cost=calculate_delivery_cost()\n",
    "    return fixed_cost+changeover_cost+production_cost+delivery_cost"
   ]
  },
  {
   "cell_type": "code",
   "execution_count": 6,
   "metadata": {
    "collapsed": true
   },
   "outputs": [],
   "source": [
    "def calculate_revenue():\n",
    "    dem_pri = pd.read_csv('demand_price.csv')\n",
    "    shi_reg = pd.read_csv('shipping_region.csv')\n",
    "    dem_for = pd.read_csv('demand_forecast.csv')\n",
    "    regions=[]\n",
    "    for i in range(1,19):\n",
    "        regions.append('R'+str(i))\n",
    "    products=[]\n",
    "    for i in range(1,82):\n",
    "        products.append('P'+str(i))\n",
    "    total_revenue=0\n",
    "    for region in regions:\n",
    "        for product in products:\n",
    "            dem_price = dem_pri[(dem_pri.Product_ID==product) &\n",
    "                               (dem_pri.Region==region)].Demand_price.values[0]\n",
    "            act_quantity = shi_reg[(shi_reg.Region==region)&\n",
    "                                  (shi_reg.Product_ID==product)].Shipping_to_region_quantity.sum()\n",
    "            dem_quantity = dem_for[(dem_for.Region==region)&(dem_for.Product_ID==product)].Demand.sum()\n",
    "            total_revenue += dem_price*(min(act_quantity,dem_quantity))\n",
    "    return total_revenue"
   ]
  },
  {
   "cell_type": "code",
   "execution_count": 8,
   "metadata": {},
   "outputs": [
    {
     "name": "stdout",
     "output_type": "stream",
     "text": [
      "Revenue- 80404973.9895 Cost- 73837663.2627\n"
     ]
    },
    {
     "data": {
      "text/plain": [
       "8.8942559075564187"
      ]
     },
     "execution_count": 8,
     "metadata": {},
     "output_type": "execute_result"
    }
   ],
   "source": [
    "def get_margin_percent():\n",
    "    total_revenue = calculate_revenue()\n",
    "    total_cost = calculate_cost()\n",
    "    print(\"Revenue-\",total_revenue,'Cost-',total_cost)\n",
    "    return ((total_revenue-total_cost)*100)/total_cost\n",
    "get_margin_percent()"
   ]
  },
  {
   "cell_type": "code",
   "execution_count": 21,
   "metadata": {
    "collapsed": true
   },
   "outputs": [],
   "source": [
    "def list_best_product_for_lines():\n",
    "    pro_cos = pd.read_csv('production_cost.csv')\n",
    "    pro_cap = pd.read_csv('production_capacity.csv')\n",
    "    dem_pri = pd.read_csv('demand_price.csv')\n",
    "    del_cos = pd.read_csv('delivery_cost.csv')\n",
    "    products = []\n",
    "    for i in range(1,82):\n",
    "        products.append('P'+str(i))\n",
    "    lines=['A1','A2','B1','B2','B3','C1']\n",
    "    regions=[]\n",
    "    for i in range(1,19):\n",
    "        regions.append('R'+str(i))\n",
    "    profits =[]\n",
    "    for line in lines:\n",
    "        plant = line[0]\n",
    "        line_no = int(line[1])\n",
    "        for product in products:\n",
    "            prod_cost = pro_cos[(pro_cos.Product_ID==product) &\n",
    "                               (pro_cos.Plant==plant)].Production_cost.values[0]\n",
    "            prod_cap = pro_cap[(pro_cap.Plant==plant)&\n",
    "                        (pro_cap.Line==line_no) & (pro_cap.Product==product)].Capacity.values[0]\n",
    "            for region in regions:\n",
    "                prod_price = dem_pri[(dem_pri.Product_ID==product) &\n",
    "                                    (dem_pri.Region==region)].Demand_price.values[0]\n",
    "                del_cost = del_cos[(del_cos.Plant==plant) &\n",
    "                                  (del_cos.Region==region)].Delivery_cost.values[0]\n",
    "                if prod_price > 0:\n",
    "                    profit = prod_cap*(prod_price-(prod_cost+del_cost))\n",
    "                else:\n",
    "                    profit = 0\n",
    "                tag = line+'-'+product+'-'+region+'-'+str(prod_cap)\n",
    "                profits.append({'tag':tag,'profit':profit})\n",
    "    profits.sort(key=lambda x:x['profit'],reverse=True)\n",
    "    return profits"
   ]
  },
  {
   "cell_type": "code",
   "execution_count": 22,
   "metadata": {
    "collapsed": true
   },
   "outputs": [],
   "source": [
    "def generate_best_files():\n",
    "    best_strs = ['A1-P61-R8-75','A2-P43-R18-130','B1-P19-R4-205','B2-P47-R18-127','B3-P61-R8-75','C1-P34-R7-181']\n",
    "    best=[]\n",
    "    for pstr in best_strs:\n",
    "        tokens = pstr.split('-')\n",
    "        best_entry = {'Line':tokens[0],'Product':tokens[1],'Region':tokens[2],'Capacity':float(tokens[3])}\n",
    "        best.append(best_entry)\n",
    "    products = []\n",
    "    for i in range(1,82):\n",
    "        products.append('P'+str(i))    \n",
    "    regions=[]\n",
    "    for i in range(1,19):\n",
    "        regions.append('R'+str(i))   \n",
    "    \n",
    "    # demand_forecast\n",
    "    records=[]\n",
    "    for product in products:\n",
    "        for region in regions:\n",
    "            for month in range(37,40):\n",
    "                records.append([product,region,month,0])\n",
    "    df = pd.DataFrame(records)  \n",
    "    df.columns=['Product_ID','Region','Month','Demand']\n",
    "    for be in best:\n",
    "        for month in range(37,40):\n",
    "            df.loc[(df.Product_ID==be['Product']) &\n",
    "                  (df.Region==be['Region']) &\n",
    "                   (df.Month==month),'Demand']+=be['Capacity']*28\n",
    "    df = df.sort_values(['Product_ID','Region','Month'])\n",
    "    df.to_csv('demand_forecast.csv',index=False)\n",
    "    \n",
    "    # manufacturing sequence\n",
    "    plants=['A','B','C']\n",
    "    line_nos={'A':[1,2],'B':[1,2,3],'C':[1]}\n",
    "    records=[]\n",
    "    for plant in plants:\n",
    "        for line_no in line_nos[plant]:\n",
    "            for month in range(37,40):\n",
    "                for day in range(1,31):\n",
    "                    records.append([plant,line_no,month,day,''])\n",
    "    df = pd.DataFrame(records)\n",
    "    df.columns=['Plant','Line','Month','Day','Product_ID']\n",
    "    for be in best:\n",
    "        plant = be['Line'][0]\n",
    "        line_no = int(be['Line'][1])\n",
    "        for month in range(37,40):\n",
    "            for day in range(1,15):\n",
    "                df.loc[(df.Plant==plant)&(df.Line==line_no)&\n",
    "                      (df.Month==month)&(df.Day==day),'Product_ID']=be['Product']\n",
    "            for day in range(16,30):\n",
    "                df.loc[(df.Plant==plant)&(df.Line==line_no)&\n",
    "                      (df.Month==month)&(df.Day==day),'Product_ID']=be['Product']\n",
    "    df.to_csv('manufacture_sequence.csv',index=False)\n",
    "    \n",
    "\n",
    "    # shipping_region\n",
    "    records=[]\n",
    "    for plant in plants:\n",
    "        for region in regions:\n",
    "            for month in range(37,40):\n",
    "                for product in products:\n",
    "                    records.append([plant,region,product,month,0])\n",
    "    df = pd.DataFrame(records)\n",
    "    df.columns=['Plant','Region','Product_ID','Month','Shipping_to_region_quantity']\n",
    "    for be in best:\n",
    "        plant = be['Line'][0]\n",
    "        for month in range(37,40):\n",
    "            df.loc[(df.Plant==plant)&(df.Region==be['Region'])&\n",
    "                    (df.Product_ID==be['Product']) & \n",
    "                   (df.Month==month),'Shipping_to_region_quantity'] += be['Capacity']*28\n",
    "    df.to_csv('shipping_region.csv',index=False)    "
   ]
  }
 ],
 "metadata": {
  "kernelspec": {
   "display_name": "Python 3",
   "language": "python",
   "name": "python3"
  },
  "language_info": {
   "codemirror_mode": {
    "name": "ipython",
    "version": 3
   },
   "file_extension": ".py",
   "mimetype": "text/x-python",
   "name": "python",
   "nbconvert_exporter": "python",
   "pygments_lexer": "ipython3",
   "version": "3.6.1"
  }
 },
 "nbformat": 4,
 "nbformat_minor": 2
}
