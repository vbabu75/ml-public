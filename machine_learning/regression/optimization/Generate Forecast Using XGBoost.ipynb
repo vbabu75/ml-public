{
 "cells": [
  {
   "cell_type": "code",
   "execution_count": 1,
   "metadata": {},
   "outputs": [
    {
     "name": "stderr",
     "output_type": "stream",
     "text": [
      "/Users/venkatesh/anaconda/lib/python3.6/site-packages/statsmodels/compat/pandas.py:56: FutureWarning: The pandas.core.datetools module is deprecated and will be removed in a future version. Please use the pandas.tseries module instead.\n",
      "  from pandas.core import datetools\n"
     ]
    }
   ],
   "source": [
    "import numpy as np\n",
    "import pandas as pd\n",
    "import matplotlib.pyplot as plt\n",
    "from sklearn.metrics import mean_squared_error\n",
    "from sklearn.model_selection import train_test_split\n",
    "from sklearn.metrics import mean_squared_log_error\n",
    "from statsmodels.tsa.ar_model import AR\n",
    "from xgboost import XGBRegressor\n",
    "from datetime import datetime\n",
    "from datetime import timedelta\n",
    "import common\n",
    "%matplotlib inline"
   ]
  },
  {
   "cell_type": "code",
   "execution_count": 9,
   "metadata": {},
   "outputs": [
    {
     "name": "stdout",
     "output_type": "stream",
     "text": [
      "Done creating demand_forecast.csv\n"
     ]
    }
   ],
   "source": [
    "def generate_demand_submission():\n",
    "    train = pd.read_csv('historical_demand.csv')\n",
    "    test = pd.read_csv('sample_submission/demand_forecast.csv')\n",
    "    train['pid'] = train.Product_ID.apply(lambda x:int(x[1:]))\n",
    "    train['rid'] = train.Region.apply(lambda x:int(x[1:]))\n",
    "    test['pid'] = test.Product_ID.apply(lambda x:int(x[1:]))\n",
    "    test['rid'] = test.Region.apply(lambda x:int(x[1:]))\n",
    "    train = train.sort_values(['Month','pid','rid'])\n",
    "    test = test.sort_values(['Month','pid','rid'])\n",
    "    combined = pd.concat([train,test],axis=0)\n",
    "    combined['d3'] = combined.Demand.shift(3*18*81)\n",
    "    combined['d4'] = combined.Demand.shift(4*18*81)\n",
    "    combined['d5'] = combined.Demand.shift(5*18*81)\n",
    "    combined['d6'] = combined.Demand.shift(6*18*81)\n",
    "\n",
    "    train = combined.iloc[:len(train)].copy()\n",
    "    test = combined.iloc[len(train):].copy()\n",
    "    exclude_features=['Product_ID','Region','Demand','Month']\n",
    "    model = XGBRegressor()\n",
    "    #model = LinearRegression()\n",
    "    vtrain = train\n",
    "    #vtrain = train.loc[train.d13.notnull()]\n",
    "    model.fit(vtrain[list(set(vtrain.columns)-set(exclude_features))],vtrain.Demand)\n",
    "    pred = model.predict(test[list(set(test.columns)-set(exclude_features))])\n",
    "    test['Demand'] = np.floor(pred)\n",
    "    extra_columns = set(test.columns)-{'Product_ID','Region','Month','Demand'}\n",
    "    test.drop(extra_columns,inplace=True,axis=1)\n",
    "    test.sort_values(['Product_ID','Region','Month'])\n",
    "    test.to_csv('demand_forecast.csv',index=False)\n",
    "    print(\"Done creating demand_forecast.csv\")\n",
    "generate_demand_submission()"
   ]
  },
  {
   "cell_type": "code",
   "execution_count": 10,
   "metadata": {
    "collapsed": true
   },
   "outputs": [],
   "source": [
    "def prune_low_quantities(minimum):\n",
    "    dem_for = pd.read_csv('demand_forecast.csv')\n",
    "    old_demand = dem_for.Demand.sum()\n",
    "    monthly_demand = dem_for.groupby(['Product_ID','Month']).Demand.sum()\n",
    "    low_monthly_demand = monthly_demand[(monthly_demand > 0) & (monthly_demand < minimum)]\n",
    "    low_monthly_demand = pd.DataFrame(low_monthly_demand)\n",
    "    low_monthly_demand.reset_index(inplace=True)\n",
    "    for index,row in low_monthly_demand.iterrows():\n",
    "        dem_for.loc[(dem_for.Product_ID==row.Product_ID) &(dem_for.Month==row.Month),'Demand']=0\n",
    "    dem_for.to_csv('demand_forecast.csv',index=False)\n",
    "    new_demand = dem_for.Demand.sum()\n",
    "    print(\"Reduced demand from \",old_demand,\"to\",new_demand,(old_demand-new_demand)*100/old_demand,\"%\")"
   ]
  },
  {
   "cell_type": "code",
   "execution_count": 12,
   "metadata": {},
   "outputs": [
    {
     "name": "stdout",
     "output_type": "stream",
     "text": [
      "Reduced demand from  66891.0 to 66315.0 0.8611023904561151 %\n"
     ]
    }
   ],
   "source": [
    "prune_low_quantities(100)"
   ]
  },
  {
   "cell_type": "code",
   "execution_count": null,
   "metadata": {
    "collapsed": true
   },
   "outputs": [],
   "source": []
  }
 ],
 "metadata": {
  "kernelspec": {
   "display_name": "Python 3",
   "language": "python",
   "name": "python3"
  },
  "language_info": {
   "codemirror_mode": {
    "name": "ipython",
    "version": 3
   },
   "file_extension": ".py",
   "mimetype": "text/x-python",
   "name": "python",
   "nbconvert_exporter": "python",
   "pygments_lexer": "ipython3",
   "version": "3.6.1"
  }
 },
 "nbformat": 4,
 "nbformat_minor": 2
}
