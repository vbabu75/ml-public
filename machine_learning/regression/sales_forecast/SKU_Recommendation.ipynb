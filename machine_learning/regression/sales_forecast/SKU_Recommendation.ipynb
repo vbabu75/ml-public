{
 "cells": [
  {
   "cell_type": "code",
   "execution_count": 39,
   "metadata": {},
   "outputs": [],
   "source": [
    "import numpy as np\n",
    "import pandas as pd\n",
    "import xgboost\n",
    "from statsmodels.tsa.ar_model import AR\n",
    "import matplotlib.pyplot as plt\n",
    "from sklearn.model_selection import train_test_split\n",
    "from datetime import datetime\n",
    "%matplotlib inline\n",
    "from sklearn.neighbors import NearestNeighbors"
   ]
  },
  {
   "cell_type": "code",
   "execution_count": 4,
   "metadata": {
    "collapsed": true
   },
   "outputs": [],
   "source": [
    "def preprocess_data(df):\n",
    "    df['Agency_no'] = df.Agency.apply(lambda x:int(x.split('_')[1]))\n",
    "    df['SKU_no'] = df.SKU.apply(lambda x:int(x.split('_')[1]))\n",
    "    df['Year'] = df.YearMonth.apply(lambda x:int(x/100))\n",
    "    df['Month'] = df.YearMonth.apply(lambda x:int(x%100))\n",
    "    df['Datetime'] = df.YearMonth.apply(lambda x: datetime(int(x/100),int(x%100),1))\n",
    "    df['Datetime'] = pd.to_datetime(df['Datetime'])\n",
    "    return df"
   ]
  },
  {
   "cell_type": "code",
   "execution_count": 8,
   "metadata": {},
   "outputs": [],
   "source": [
    "df = pd.read_csv('integrated_train.csv')\n",
    "df = preprocess_data(df)\n",
    "df = df.sort_values(['YearMonth','SKU','Agency'])"
   ]
  },
  {
   "cell_type": "code",
   "execution_count": 40,
   "metadata": {},
   "outputs": [
    {
     "name": "stdout",
     "output_type": "stream",
     "text": [
      "Same 41 Different 13\n"
     ]
    }
   ],
   "source": [
    "# Year on year, for the same month, do the best products change - 3/4 times they dont\n",
    "same = 0\n",
    "different = 0\n",
    "for agency in df.Agency_no.unique():\n",
    "    try:\n",
    "        for yearmonth in range(201601,201602):\n",
    "            profits=[]\n",
    "            for sku in df.SKU_no.unique():\n",
    "                rec = df[(df.YearMonth==yearmonth)&(df.Agency_no==agency)&(df.SKU_no==sku)]\n",
    "                if len(rec)==0:\n",
    "                    continue\n",
    "                profit = rec.Volume.values[0]*rec.Sales.values[0]\n",
    "                profits.append({'sku':sku,'profit':profit})\n",
    "            profits.sort(key=lambda x:x['profit'],reverse=True)\n",
    "            best_16_1 = profits[0]['sku']\n",
    "            best_16_2 = profits[1]['sku']\n",
    "        for yearmonth in range(201701,201702):\n",
    "            profits=[]\n",
    "            for sku in df.SKU_no.unique():\n",
    "                rec = df[(df.YearMonth==yearmonth)&(df.Agency_no==agency)&(df.SKU_no==sku)]\n",
    "                if len(rec)==0:\n",
    "                    continue\n",
    "                profit = rec.Volume.values[0]*rec.Sales.values[0]\n",
    "                profits.append({'sku':sku,'profit':profit})\n",
    "            profits.sort(key=lambda x:x['profit'],reverse=True)\n",
    "            best_17_1 = profits[0]['sku']\n",
    "            best_17_2 = profits[1]['sku']\n",
    "        if({best_16_1,best_16_2}!={best_17_1,best_17_2}):\n",
    "            different += 1    \n",
    "        else:\n",
    "            same +=1 \n",
    "    except:\n",
    "        pass\n",
    "print(\"Same\",same,\"Different\",different)"
   ]
  },
  {
   "cell_type": "code",
   "execution_count": 48,
   "metadata": {},
   "outputs": [
    {
     "data": {
      "text/html": [
       "<div>\n",
       "<style>\n",
       "    .dataframe thead tr:only-child th {\n",
       "        text-align: right;\n",
       "    }\n",
       "\n",
       "    .dataframe thead th {\n",
       "        text-align: left;\n",
       "    }\n",
       "\n",
       "    .dataframe tbody tr th {\n",
       "        vertical-align: top;\n",
       "    }\n",
       "</style>\n",
       "<table border=\"1\" class=\"dataframe\">\n",
       "  <thead>\n",
       "    <tr style=\"text-align: right;\">\n",
       "      <th></th>\n",
       "      <th>Agency</th>\n",
       "      <th>Avg_Population_2017</th>\n",
       "      <th>Avg_Yearly_Household_Income_2017</th>\n",
       "    </tr>\n",
       "  </thead>\n",
       "  <tbody>\n",
       "    <tr>\n",
       "      <th>0</th>\n",
       "      <td>Agency_01</td>\n",
       "      <td>153733</td>\n",
       "      <td>120207</td>\n",
       "    </tr>\n",
       "    <tr>\n",
       "      <th>1</th>\n",
       "      <td>Agency_02</td>\n",
       "      <td>3137874</td>\n",
       "      <td>240809</td>\n",
       "    </tr>\n",
       "    <tr>\n",
       "      <th>2</th>\n",
       "      <td>Agency_03</td>\n",
       "      <td>1538040</td>\n",
       "      <td>217280</td>\n",
       "    </tr>\n",
       "    <tr>\n",
       "      <th>3</th>\n",
       "      <td>Agency_04</td>\n",
       "      <td>50753</td>\n",
       "      <td>117957</td>\n",
       "    </tr>\n",
       "    <tr>\n",
       "      <th>4</th>\n",
       "      <td>Agency_05</td>\n",
       "      <td>3044268</td>\n",
       "      <td>182944</td>\n",
       "    </tr>\n",
       "  </tbody>\n",
       "</table>\n",
       "</div>"
      ],
      "text/plain": [
       "      Agency  Avg_Population_2017  Avg_Yearly_Household_Income_2017\n",
       "0  Agency_01               153733                            120207\n",
       "1  Agency_02              3137874                            240809\n",
       "2  Agency_03              1538040                            217280\n",
       "3  Agency_04                50753                            117957\n",
       "4  Agency_05              3044268                            182944"
      ]
     },
     "execution_count": 48,
     "metadata": {},
     "output_type": "execute_result"
    }
   ],
   "source": [
    "dem = pd.read_csv('demographics.csv')\n",
    "dem = dem.sort_values('Agency')\n",
    "dem.reset_index(drop=True,inplace=True)\n",
    "dem.head()"
   ]
  },
  {
   "cell_type": "code",
   "execution_count": 50,
   "metadata": {},
   "outputs": [],
   "source": [
    "X = dem.loc[:,['Avg_Population_2017','Avg_Yearly_Household_Income_2017']].values"
   ]
  },
  {
   "cell_type": "code",
   "execution_count": 64,
   "metadata": {},
   "outputs": [],
   "source": [
    "nbrs = NearestNeighbors(n_neighbors=5).fit(X)\n",
    "distances,indices = nbrs.kneighbors(X)"
   ]
  },
  {
   "cell_type": "code",
   "execution_count": 65,
   "metadata": {},
   "outputs": [
    {
     "name": "stdout",
     "output_type": "stream",
     "text": [
      "[ 5 13 59 54 49] [13  5 54 49 59]\n"
     ]
    }
   ],
   "source": [
    "print(indices[5],indices[13])"
   ]
  },
  {
   "cell_type": "code",
   "execution_count": 66,
   "metadata": {},
   "outputs": [
    {
     "name": "stdout",
     "output_type": "stream",
     "text": [
      "[     0.          39066.31184281  77968.9600418   79256.0938288\n",
      "  95904.0198584 ] [      0.           39066.31184281   58829.97008328   61785.76692087\n",
      "  107268.9173293 ]\n"
     ]
    }
   ],
   "source": [
    "print(distances[5],distances[13])"
   ]
  },
  {
   "cell_type": "markdown",
   "metadata": {},
   "source": [
    "The group that is closest to Agency_6 and Agency_14 are Agency_55,Agency_60,Agency_50"
   ]
  },
  {
   "cell_type": "code",
   "execution_count": 89,
   "metadata": {},
   "outputs": [
    {
     "name": "stdout",
     "output_type": "stream",
     "text": [
      "Agency  55 3 4 1\n",
      "Agency  55 7734846.72332 3708007.95671 3398311.91474\n",
      "Agency  60 1 2 5\n",
      "Agency  60 10799274.3156 5205433.17372 2340306.77764\n",
      "Agency  50 2 5 4\n",
      "Agency  50 10634622.5648 4255073.05027 3605110.7062\n"
     ]
    }
   ],
   "source": [
    "for agency in [55,60,50]:\n",
    "    yearmonth=201701\n",
    "    profits=[]\n",
    "    for sku in df.SKU_no.unique():\n",
    "        rec = df[(df.YearMonth==yearmonth)&(df.Agency_no==agency)&(df.SKU_no==sku)]\n",
    "        if len(rec)==0:\n",
    "            continue\n",
    "        profit = rec.Volume.values[0]*rec.Sales.values[0]\n",
    "        profits.append({'sku':sku,'profit':profit})\n",
    "    #print(profits)\n",
    "    profits.sort(key=lambda x:x['profit'],reverse=True)\n",
    "    print(\"Agency \",agency,profits[0]['sku'],profits[1]['sku'],profits[2]['sku'])    \n",
    "    print(\"Agency \",agency,profits[0]['profit'],profits[1]['profit'],profits[2]['profit'])"
   ]
  },
  {
   "cell_type": "code",
   "execution_count": 87,
   "metadata": {},
   "outputs": [
    {
     "name": "stdout",
     "output_type": "stream",
     "text": [
      "Agency  55 3 1 2\n",
      "Agency  55 5685646.98469 4390884.9037 2473310.99321\n",
      "Agency  60 1 2 4\n",
      "Agency  60 10839939.0775 4904319.33475 3083362.09603\n",
      "Agency  50 2 5 4\n",
      "Agency  50 10220413.5336 4209387.90349 3658375.14033\n"
     ]
    }
   ],
   "source": [
    "for agency in [55,60,50]:\n",
    "    yearmonth=201601\n",
    "    profits=[]\n",
    "    for sku in df.SKU_no.unique():\n",
    "        rec = df[(df.YearMonth==yearmonth)&(df.Agency_no==agency)&(df.SKU_no==sku)]\n",
    "        if len(rec)==0:\n",
    "            continue\n",
    "        profit = rec.Volume.values[0]*rec.Sales.values[0]\n",
    "        profits.append({'sku':sku,'profit':profit})\n",
    "    profits.sort(key=lambda x:x['profit'],reverse=True)\n",
    "    print(\"Agency \",agency,profits[0]['sku'],profits[1]['sku'],profits[2]['sku'])\n",
    "    print(\"Agency \",agency,profits[0]['profit'],profits[1]['profit'],profits[2]['profit'])"
   ]
  },
  {
   "cell_type": "code",
   "execution_count": 82,
   "metadata": {},
   "outputs": [
    {
     "data": {
      "text/plain": [
       "array([ 1,  2,  3,  4,  5,  6,  7,  8, 11, 12, 18, 22, 31, 32, 34, 14, 15,\n",
       "       20, 23, 17, 24, 27, 26, 21, 28])"
      ]
     },
     "execution_count": 82,
     "metadata": {},
     "output_type": "execute_result"
    }
   ],
   "source": [
    "df.SKU_no.unique()"
   ]
  },
  {
   "cell_type": "code",
   "execution_count": 91,
   "metadata": {},
   "outputs": [
    {
     "name": "stdout",
     "output_type": "stream",
     "text": [
      "[ 5 13 59] [13  5 54]\n",
      "[     0.          39066.31184281  77968.9600418 ] [     0.          39066.31184281  58829.97008328]\n"
     ]
    }
   ],
   "source": [
    "nbrs = NearestNeighbors(n_neighbors=3,algorithm='kd_tree').fit(X)\n",
    "distances,indices = nbrs.kneighbors(X)\n",
    "print(indices[5],indices[13])\n",
    "print(distances[5],distances[13])"
   ]
  },
  {
   "cell_type": "code",
   "execution_count": 92,
   "metadata": {},
   "outputs": [
    {
     "name": "stdout",
     "output_type": "stream",
     "text": [
      "Agency  55 3 1 4\n",
      "Agency  55 4579098.92409 3204261.21747 2202242.93078\n",
      "Agency  60 1 2 4\n",
      "Agency  60 12722755.6557 4442398.22346 3261442.52947\n",
      "Agency  50 2 5 4\n",
      "Agency  50 10521094.2489 4765179.39834 3598858.0518\n"
     ]
    }
   ],
   "source": [
    "for agency in [55,60,50]:\n",
    "    yearmonth=201501\n",
    "    profits=[]\n",
    "    for sku in df.SKU_no.unique():\n",
    "        rec = df[(df.YearMonth==yearmonth)&(df.Agency_no==agency)&(df.SKU_no==sku)]\n",
    "        if len(rec)==0:\n",
    "            continue\n",
    "        profit = rec.Volume.values[0]*rec.Sales.values[0]\n",
    "        profits.append({'sku':sku,'profit':profit})\n",
    "    profits.sort(key=lambda x:x['profit'],reverse=True)\n",
    "    print(\"Agency \",agency,profits[0]['sku'],profits[1]['sku'],profits[2]['sku'])\n",
    "    print(\"Agency \",agency,profits[0]['profit'],profits[1]['profit'],profits[2]['profit'])"
   ]
  },
  {
   "cell_type": "code",
   "execution_count": 93,
   "metadata": {},
   "outputs": [
    {
     "name": "stdout",
     "output_type": "stream",
     "text": [
      "Agency  55 1 3 4\n",
      "Agency  55 5731518.04224 5232174.12337 5122473.76959\n",
      "Agency  60 1 4 2\n",
      "Agency  60 10794965.9834 3338277.07793 3229782.29273\n",
      "Agency  50 2 5 4\n",
      "Agency  50 11011542.9323 5238773.97497 3649089.08549\n"
     ]
    }
   ],
   "source": [
    "for agency in [55,60,50]:\n",
    "    yearmonth=201401\n",
    "    profits=[]\n",
    "    for sku in df.SKU_no.unique():\n",
    "        rec = df[(df.YearMonth==yearmonth)&(df.Agency_no==agency)&(df.SKU_no==sku)]\n",
    "        if len(rec)==0:\n",
    "            continue\n",
    "        profit = rec.Volume.values[0]*rec.Sales.values[0]\n",
    "        profits.append({'sku':sku,'profit':profit})\n",
    "    profits.sort(key=lambda x:x['profit'],reverse=True)\n",
    "    print(\"Agency \",agency,profits[0]['sku'],profits[1]['sku'],profits[2]['sku'])\n",
    "    print(\"Agency \",agency,profits[0]['profit'],profits[1]['profit'],profits[2]['profit'])"
   ]
  },
  {
   "cell_type": "code",
   "execution_count": 94,
   "metadata": {},
   "outputs": [
    {
     "name": "stdout",
     "output_type": "stream",
     "text": [
      "Agency  55 3 1 4\n",
      "Agency  55 4579098.92409 3204261.21747 2202242.93078\n",
      "Agency  60 1 2 4\n",
      "Agency  60 12722755.6557 4442398.22346 3261442.52947\n",
      "Agency  50 2 5 4\n",
      "Agency  50 10521094.2489 4765179.39834 3598858.0518\n"
     ]
    }
   ],
   "source": [
    "for agency in [55,60,50]:\n",
    "    yearmonth=201501\n",
    "    profits=[]\n",
    "    for sku in df.SKU_no.unique():\n",
    "        rec = df[(df.YearMonth==yearmonth)&(df.Agency_no==agency)&(df.SKU_no==sku)]\n",
    "        if len(rec)==0:\n",
    "            continue\n",
    "        profit = rec.Volume.values[0]*rec.Sales.values[0]\n",
    "        profits.append({'sku':sku,'profit':profit})\n",
    "    profits.sort(key=lambda x:x['profit'],reverse=True)\n",
    "    print(\"Agency \",agency,profits[0]['sku'],profits[1]['sku'],profits[2]['sku'])\n",
    "    print(\"Agency \",agency,profits[0]['profit'],profits[1]['profit'],profits[2]['profit'])"
   ]
  },
  {
   "cell_type": "code",
   "execution_count": null,
   "metadata": {
    "collapsed": true
   },
   "outputs": [],
   "source": []
  }
 ],
 "metadata": {
  "kernelspec": {
   "display_name": "Python 3",
   "language": "python",
   "name": "python3"
  },
  "language_info": {
   "codemirror_mode": {
    "name": "ipython",
    "version": 3
   },
   "file_extension": ".py",
   "mimetype": "text/x-python",
   "name": "python",
   "nbconvert_exporter": "python",
   "pygments_lexer": "ipython3",
   "version": "3.6.1"
  }
 },
 "nbformat": 4,
 "nbformat_minor": 2
}
