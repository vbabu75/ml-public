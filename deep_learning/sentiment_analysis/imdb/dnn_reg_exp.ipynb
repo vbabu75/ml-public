{
 "cells": [
  {
   "cell_type": "code",
   "execution_count": 1,
   "metadata": {},
   "outputs": [],
   "source": [
    "import numpy as np\n",
    "import matplotlib.pyplot as plt\n",
    "%matplotlib inline\n",
    "\n",
    "import tensorflow as tf\n",
    "from tensorflow import keras"
   ]
  },
  {
   "cell_type": "code",
   "execution_count": 10,
   "metadata": {},
   "outputs": [
    {
     "name": "stdout",
     "output_type": "stream",
     "text": [
      "(25000, 10000) (25000,) (25000, 10000) (25000,)\n"
     ]
    }
   ],
   "source": [
    "# Fetch data and hot-encode it\n",
    "def multi_hot_encode(sentences,dict_length):\n",
    "    vectors = np.zeros((len(sentences),dict_length))\n",
    "    for i,idxs in enumerate(sentences):\n",
    "        vectors[i,idxs] = 1\n",
    "    return vectors\n",
    "\n",
    "DICT_LENGTH=10000\n",
    "(trainX,trainy),(testX,testy) = keras.datasets.imdb.load_data(num_words=DICT_LENGTH)\n",
    "trainX = multi_hot_encode(trainX,DICT_LENGTH)\n",
    "testX = multi_hot_encode(testX,DICT_LENGTH)\n",
    "print(trainX.shape,trainy.shape,testX.shape,testy.shape)\n"
   ]
  },
  {
   "cell_type": "code",
   "execution_count": 29,
   "metadata": {},
   "outputs": [],
   "source": [
    "# build model\n",
    "def build_model(num_units):\n",
    "    model = keras.models.Sequential([\n",
    "        keras.layers.Dense(num_units, activation='relu',input_shape=(DICT_LENGTH,)),\n",
    "        keras.layers.Dense(num_units, activation='relu'),\n",
    "        keras.layers.Dense(1, activation='sigmoid')\n",
    "    ])\n",
    "    model.compile(optimizer='adam',\n",
    "                 loss = 'binary_crossentropy',\n",
    "                 metrics=['accuracy','binary_crossentropy'])\n",
    "    model.summary()\n",
    "    return model\n"
   ]
  },
  {
   "cell_type": "code",
   "execution_count": 30,
   "metadata": {},
   "outputs": [
    {
     "name": "stdout",
     "output_type": "stream",
     "text": [
      "Model: \"sequential_4\"\n",
      "_________________________________________________________________\n",
      "Layer (type)                 Output Shape              Param #   \n",
      "=================================================================\n",
      "dense_12 (Dense)             (None, 16)                160016    \n",
      "_________________________________________________________________\n",
      "dense_13 (Dense)             (None, 16)                272       \n",
      "_________________________________________________________________\n",
      "dense_14 (Dense)             (None, 1)                 17        \n",
      "=================================================================\n",
      "Total params: 160,305\n",
      "Trainable params: 160,305\n",
      "Non-trainable params: 0\n",
      "_________________________________________________________________\n",
      "Train on 25000 samples, validate on 25000 samples\n",
      "Epoch 1/20\n",
      "25000/25000 [==============================] - 3s 105us/sample - loss: 0.4015 - accuracy: 0.8421 - binary_crossentropy: 0.4015 - val_loss: 0.2899 - val_accuracy: 0.8855 - val_binary_crossentropy: 0.2899\n",
      "Epoch 2/20\n",
      "25000/25000 [==============================] - 2s 93us/sample - loss: 0.2079 - accuracy: 0.9226 - binary_crossentropy: 0.2079 - val_loss: 0.2891 - val_accuracy: 0.8847 - val_binary_crossentropy: 0.2891\n",
      "Epoch 3/20\n",
      "25000/25000 [==============================] - 2s 94us/sample - loss: 0.1543 - accuracy: 0.9455 - binary_crossentropy: 0.1543 - val_loss: 0.3215 - val_accuracy: 0.8773 - val_binary_crossentropy: 0.3215\n",
      "Epoch 4/20\n",
      "25000/25000 [==============================] - 2s 94us/sample - loss: 0.1246 - accuracy: 0.9579 - binary_crossentropy: 0.1246 - val_loss: 0.3811 - val_accuracy: 0.8665 - val_binary_crossentropy: 0.3811\n",
      "Epoch 5/20\n",
      "25000/25000 [==============================] - 2s 92us/sample - loss: 0.1005 - accuracy: 0.9649 - binary_crossentropy: 0.1005 - val_loss: 0.4065 - val_accuracy: 0.8662 - val_binary_crossentropy: 0.4065\n",
      "Epoch 6/20\n",
      "25000/25000 [==============================] - 2s 91us/sample - loss: 0.0809 - accuracy: 0.9752 - binary_crossentropy: 0.0809 - val_loss: 0.4648 - val_accuracy: 0.8604 - val_binary_crossentropy: 0.4648\n",
      "Epoch 7/20\n",
      "25000/25000 [==============================] - 2s 91us/sample - loss: 0.0664 - accuracy: 0.9796 - binary_crossentropy: 0.0664 - val_loss: 0.5174 - val_accuracy: 0.8572 - val_binary_crossentropy: 0.5174\n",
      "Epoch 8/20\n",
      "25000/25000 [==============================] - 2s 89us/sample - loss: 0.0547 - accuracy: 0.9832 - binary_crossentropy: 0.0547 - val_loss: 0.5725 - val_accuracy: 0.8552 - val_binary_crossentropy: 0.5725\n",
      "Epoch 9/20\n",
      "25000/25000 [==============================] - 2s 89us/sample - loss: 0.0428 - accuracy: 0.9876 - binary_crossentropy: 0.0428 - val_loss: 0.6328 - val_accuracy: 0.8534 - val_binary_crossentropy: 0.6328\n",
      "Epoch 10/20\n",
      "25000/25000 [==============================] - 2s 87us/sample - loss: 0.0333 - accuracy: 0.9916 - binary_crossentropy: 0.0333 - val_loss: 0.6932 - val_accuracy: 0.8518 - val_binary_crossentropy: 0.6932\n",
      "Epoch 11/20\n",
      "25000/25000 [==============================] - 2s 88us/sample - loss: 0.0263 - accuracy: 0.9941 - binary_crossentropy: 0.0263 - val_loss: 0.7590 - val_accuracy: 0.8482 - val_binary_crossentropy: 0.7590\n",
      "Epoch 12/20\n",
      "25000/25000 [==============================] - 2s 89us/sample - loss: 0.0203 - accuracy: 0.9962 - binary_crossentropy: 0.0203 - val_loss: 0.8101 - val_accuracy: 0.8490 - val_binary_crossentropy: 0.8101\n",
      "Epoch 13/20\n",
      "25000/25000 [==============================] - 2s 90us/sample - loss: 0.0146 - accuracy: 0.9978 - binary_crossentropy: 0.0146 - val_loss: 0.8793 - val_accuracy: 0.8472 - val_binary_crossentropy: 0.8793\n",
      "Epoch 14/20\n",
      "25000/25000 [==============================] - 2s 88us/sample - loss: 0.0112 - accuracy: 0.9986 - binary_crossentropy: 0.0112 - val_loss: 0.9281 - val_accuracy: 0.8483 - val_binary_crossentropy: 0.9281\n",
      "Epoch 15/20\n",
      "25000/25000 [==============================] - 2s 88us/sample - loss: 0.0076 - accuracy: 0.9994 - binary_crossentropy: 0.0076 - val_loss: 0.9777 - val_accuracy: 0.8483 - val_binary_crossentropy: 0.9777\n",
      "Epoch 16/20\n",
      "25000/25000 [==============================] - 2s 88us/sample - loss: 0.0050 - accuracy: 0.9998 - binary_crossentropy: 0.0050 - val_loss: 1.0282 - val_accuracy: 0.8473 - val_binary_crossentropy: 1.0282\n",
      "Epoch 17/20\n",
      "25000/25000 [==============================] - 2s 89us/sample - loss: 0.0033 - accuracy: 0.9998 - binary_crossentropy: 0.0033 - val_loss: 1.0685 - val_accuracy: 0.8472 - val_binary_crossentropy: 1.0685\n",
      "Epoch 18/20\n",
      "25000/25000 [==============================] - 2s 89us/sample - loss: 0.0025 - accuracy: 0.9999 - binary_crossentropy: 0.0025 - val_loss: 1.1028 - val_accuracy: 0.8472 - val_binary_crossentropy: 1.1028\n",
      "Epoch 19/20\n",
      "25000/25000 [==============================] - 2s 88us/sample - loss: 0.0020 - accuracy: 1.0000 - binary_crossentropy: 0.0020 - val_loss: 1.1389 - val_accuracy: 0.8467 - val_binary_crossentropy: 1.1389\n",
      "Epoch 20/20\n",
      "25000/25000 [==============================] - 2s 88us/sample - loss: 0.0016 - accuracy: 1.0000 - binary_crossentropy: 0.0016 - val_loss: 1.1716 - val_accuracy: 0.8464 - val_binary_crossentropy: 1.1716\n"
     ]
    }
   ],
   "source": [
    "baseline_model = build_model(16)\n",
    "baseline_history = baseline_model.fit(\n",
    "            trainX,trainy,\n",
    "            validation_data=(testX,testy),\n",
    "            batch_size= 256,\n",
    "            epochs=20)"
   ]
  },
  {
   "cell_type": "code",
   "execution_count": 17,
   "metadata": {},
   "outputs": [
    {
     "name": "stdout",
     "output_type": "stream",
     "text": [
      "Model: \"sequential_1\"\n",
      "_________________________________________________________________\n",
      "Layer (type)                 Output Shape              Param #   \n",
      "=================================================================\n",
      "dense_3 (Dense)              (None, 4)                 40004     \n",
      "_________________________________________________________________\n",
      "dense_4 (Dense)              (None, 4)                 20        \n",
      "_________________________________________________________________\n",
      "dense_5 (Dense)              (None, 1)                 5         \n",
      "=================================================================\n",
      "Total params: 40,029\n",
      "Trainable params: 40,029\n",
      "Non-trainable params: 0\n",
      "_________________________________________________________________\n",
      "Train on 25000 samples, validate on 25000 samples\n",
      "Epoch 1/20\n",
      "25000/25000 [==============================] - 3s 115us/sample - loss: 0.4639 - accuracy: 0.8189 - binary_crossentropy: 0.4639 - val_loss: 0.3378 - val_accuracy: 0.8746 - val_binary_crossentropy: 0.3378\n",
      "Epoch 2/20\n",
      "25000/25000 [==============================] - 3s 106us/sample - loss: 0.2548 - accuracy: 0.9123 - binary_crossentropy: 0.2548 - val_loss: 0.2887 - val_accuracy: 0.8878 - val_binary_crossentropy: 0.2887\n",
      "Epoch 3/20\n",
      "25000/25000 [==============================] - 3s 106us/sample - loss: 0.1956 - accuracy: 0.9329 - binary_crossentropy: 0.1956 - val_loss: 0.2840 - val_accuracy: 0.8860 - val_binary_crossentropy: 0.2840\n",
      "Epoch 4/20\n",
      "25000/25000 [==============================] - 3s 105us/sample - loss: 0.1616 - accuracy: 0.9459 - binary_crossentropy: 0.1616 - val_loss: 0.2933 - val_accuracy: 0.8833 - val_binary_crossentropy: 0.2933\n",
      "Epoch 5/20\n",
      "25000/25000 [==============================] - 3s 104us/sample - loss: 0.1380 - accuracy: 0.9546 - binary_crossentropy: 0.1380 - val_loss: 0.3124 - val_accuracy: 0.8791 - val_binary_crossentropy: 0.3123\n",
      "Epoch 6/20\n",
      "25000/25000 [==============================] - 3s 107us/sample - loss: 0.1198 - accuracy: 0.9625 - binary_crossentropy: 0.1198 - val_loss: 0.3299 - val_accuracy: 0.8752 - val_binary_crossentropy: 0.3299\n",
      "Epoch 7/20\n",
      "25000/25000 [==============================] - 3s 107us/sample - loss: 0.1062 - accuracy: 0.9674 - binary_crossentropy: 0.1062 - val_loss: 0.3508 - val_accuracy: 0.8739 - val_binary_crossentropy: 0.3508\n",
      "Epoch 8/20\n",
      "25000/25000 [==============================] - 3s 105us/sample - loss: 0.0924 - accuracy: 0.9717 - binary_crossentropy: 0.0924 - val_loss: 0.3778 - val_accuracy: 0.8681 - val_binary_crossentropy: 0.3778\n",
      "Epoch 9/20\n",
      "25000/25000 [==============================] - 3s 105us/sample - loss: 0.0811 - accuracy: 0.9765 - binary_crossentropy: 0.0811 - val_loss: 0.4017 - val_accuracy: 0.8654 - val_binary_crossentropy: 0.4017\n",
      "Epoch 10/20\n",
      "25000/25000 [==============================] - 3s 107us/sample - loss: 0.0714 - accuracy: 0.9814 - binary_crossentropy: 0.0714 - val_loss: 0.4258 - val_accuracy: 0.8636 - val_binary_crossentropy: 0.4258\n",
      "Epoch 11/20\n",
      "25000/25000 [==============================] - 3s 105us/sample - loss: 0.0625 - accuracy: 0.9848 - binary_crossentropy: 0.0625 - val_loss: 0.4545 - val_accuracy: 0.8608 - val_binary_crossentropy: 0.4545\n",
      "Epoch 12/20\n",
      "25000/25000 [==============================] - 3s 105us/sample - loss: 0.0542 - accuracy: 0.9887 - binary_crossentropy: 0.0542 - val_loss: 0.4864 - val_accuracy: 0.8594 - val_binary_crossentropy: 0.4864\n",
      "Epoch 13/20\n",
      "25000/25000 [==============================] - 3s 105us/sample - loss: 0.0482 - accuracy: 0.9902 - binary_crossentropy: 0.0482 - val_loss: 0.5254 - val_accuracy: 0.8567 - val_binary_crossentropy: 0.5254\n",
      "Epoch 14/20\n",
      "25000/25000 [==============================] - 3s 108us/sample - loss: 0.0417 - accuracy: 0.9926 - binary_crossentropy: 0.0417 - val_loss: 0.5395 - val_accuracy: 0.8559 - val_binary_crossentropy: 0.5395\n",
      "Epoch 15/20\n",
      "25000/25000 [==============================] - 3s 105us/sample - loss: 0.0364 - accuracy: 0.9937 - binary_crossentropy: 0.0364 - val_loss: 0.5690 - val_accuracy: 0.8550 - val_binary_crossentropy: 0.5690\n",
      "Epoch 16/20\n",
      "25000/25000 [==============================] - 3s 104us/sample - loss: 0.0330 - accuracy: 0.9942 - binary_crossentropy: 0.0330 - val_loss: 0.6003 - val_accuracy: 0.8535 - val_binary_crossentropy: 0.6003\n",
      "Epoch 17/20\n",
      "25000/25000 [==============================] - 3s 105us/sample - loss: 0.0274 - accuracy: 0.9963 - binary_crossentropy: 0.0274 - val_loss: 0.6600 - val_accuracy: 0.8519 - val_binary_crossentropy: 0.6600\n",
      "Epoch 18/20\n",
      "25000/25000 [==============================] - 3s 107us/sample - loss: 0.0220 - accuracy: 0.9973 - binary_crossentropy: 0.0220 - val_loss: 0.6993 - val_accuracy: 0.8519 - val_binary_crossentropy: 0.6993\n",
      "Epoch 19/20\n",
      "25000/25000 [==============================] - 3s 106us/sample - loss: 0.0183 - accuracy: 0.9980 - binary_crossentropy: 0.0183 - val_loss: 0.7355 - val_accuracy: 0.8510 - val_binary_crossentropy: 0.7355\n",
      "Epoch 20/20\n",
      "25000/25000 [==============================] - 3s 105us/sample - loss: 0.0149 - accuracy: 0.9985 - binary_crossentropy: 0.0149 - val_loss: 0.7743 - val_accuracy: 0.8506 - val_binary_crossentropy: 0.7743\n"
     ]
    }
   ],
   "source": [
    "smaller_model = build_model(4)\n",
    "smaller_history = smaller_model.fit(\n",
    "            trainX,trainy,\n",
    "            validation_data=(testX,testy),\n",
    "            batch_size= 256,\n",
    "            epochs=20)"
   ]
  },
  {
   "cell_type": "code",
   "execution_count": 18,
   "metadata": {},
   "outputs": [
    {
     "name": "stdout",
     "output_type": "stream",
     "text": [
      "Model: \"sequential_2\"\n",
      "_________________________________________________________________\n",
      "Layer (type)                 Output Shape              Param #   \n",
      "=================================================================\n",
      "dense_6 (Dense)              (None, 512)               5120512   \n",
      "_________________________________________________________________\n",
      "dense_7 (Dense)              (None, 512)               262656    \n",
      "_________________________________________________________________\n",
      "dense_8 (Dense)              (None, 1)                 513       \n",
      "=================================================================\n",
      "Total params: 5,383,681\n",
      "Trainable params: 5,383,681\n",
      "Non-trainable params: 0\n",
      "_________________________________________________________________\n",
      "Train on 25000 samples, validate on 25000 samples\n",
      "Epoch 1/20\n",
      "25000/25000 [==============================] - 10s 386us/sample - loss: 0.3318 - accuracy: 0.8556 - binary_crossentropy: 0.3318 - val_loss: 0.2940 - val_accuracy: 0.8756 - val_binary_crossentropy: 0.2940\n",
      "Epoch 2/20\n",
      "25000/25000 [==============================] - 9s 375us/sample - loss: 0.1365 - accuracy: 0.9504 - binary_crossentropy: 0.1365 - val_loss: 0.3363 - val_accuracy: 0.8703 - val_binary_crossentropy: 0.3363\n",
      "Epoch 3/20\n",
      "25000/25000 [==============================] - 9s 375us/sample - loss: 0.0294 - accuracy: 0.9915 - binary_crossentropy: 0.0294 - val_loss: 0.4954 - val_accuracy: 0.8659 - val_binary_crossentropy: 0.4954\n",
      "Epoch 4/20\n",
      "25000/25000 [==============================] - 9s 375us/sample - loss: 0.0038 - accuracy: 0.9994 - binary_crossentropy: 0.0038 - val_loss: 0.7068 - val_accuracy: 0.8679 - val_binary_crossentropy: 0.7068\n",
      "Epoch 5/20\n",
      "25000/25000 [==============================] - 9s 376us/sample - loss: 8.8524e-04 - accuracy: 0.9998 - binary_crossentropy: 8.8524e-04 - val_loss: 0.7912 - val_accuracy: 0.8676 - val_binary_crossentropy: 0.7912\n",
      "Epoch 6/20\n",
      "25000/25000 [==============================] - 9s 374us/sample - loss: 1.4532e-04 - accuracy: 1.0000 - binary_crossentropy: 1.4532e-04 - val_loss: 0.8399 - val_accuracy: 0.8687 - val_binary_crossentropy: 0.8399\n",
      "Epoch 7/20\n",
      "25000/25000 [==============================] - 9s 375us/sample - loss: 5.6191e-05 - accuracy: 1.0000 - binary_crossentropy: 5.6191e-05 - val_loss: 0.8746 - val_accuracy: 0.8690 - val_binary_crossentropy: 0.8746\n",
      "Epoch 8/20\n",
      "25000/25000 [==============================] - 9s 376us/sample - loss: 3.7767e-05 - accuracy: 1.0000 - binary_crossentropy: 3.7767e-05 - val_loss: 0.9019 - val_accuracy: 0.8696 - val_binary_crossentropy: 0.9019\n",
      "Epoch 9/20\n",
      "25000/25000 [==============================] - 9s 375us/sample - loss: 2.8276e-05 - accuracy: 1.0000 - binary_crossentropy: 2.8276e-05 - val_loss: 0.9237 - val_accuracy: 0.8696 - val_binary_crossentropy: 0.9237\n",
      "Epoch 10/20\n",
      "25000/25000 [==============================] - 9s 375us/sample - loss: 2.2253e-05 - accuracy: 1.0000 - binary_crossentropy: 2.2253e-05 - val_loss: 0.9431 - val_accuracy: 0.8696 - val_binary_crossentropy: 0.9431\n",
      "Epoch 11/20\n",
      "25000/25000 [==============================] - 9s 375us/sample - loss: 1.8079e-05 - accuracy: 1.0000 - binary_crossentropy: 1.8079e-05 - val_loss: 0.9592 - val_accuracy: 0.8695 - val_binary_crossentropy: 0.9592\n",
      "Epoch 12/20\n",
      "25000/25000 [==============================] - 9s 375us/sample - loss: 1.5056e-05 - accuracy: 1.0000 - binary_crossentropy: 1.5056e-05 - val_loss: 0.9742 - val_accuracy: 0.8696 - val_binary_crossentropy: 0.9742\n",
      "Epoch 13/20\n",
      "25000/25000 [==============================] - 9s 379us/sample - loss: 1.2737e-05 - accuracy: 1.0000 - binary_crossentropy: 1.2737e-05 - val_loss: 0.9877 - val_accuracy: 0.8695 - val_binary_crossentropy: 0.9877\n",
      "Epoch 14/20\n",
      "25000/25000 [==============================] - 9s 375us/sample - loss: 1.0925e-05 - accuracy: 1.0000 - binary_crossentropy: 1.0925e-05 - val_loss: 0.9999 - val_accuracy: 0.8696 - val_binary_crossentropy: 0.9999\n",
      "Epoch 15/20\n",
      "25000/25000 [==============================] - 9s 375us/sample - loss: 9.4720e-06 - accuracy: 1.0000 - binary_crossentropy: 9.4720e-06 - val_loss: 1.0114 - val_accuracy: 0.8694 - val_binary_crossentropy: 1.0114\n",
      "Epoch 16/20\n",
      "25000/25000 [==============================] - 9s 374us/sample - loss: 8.2900e-06 - accuracy: 1.0000 - binary_crossentropy: 8.2900e-06 - val_loss: 1.0227 - val_accuracy: 0.8695 - val_binary_crossentropy: 1.0227\n",
      "Epoch 17/20\n",
      "25000/25000 [==============================] - 9s 375us/sample - loss: 7.3048e-06 - accuracy: 1.0000 - binary_crossentropy: 7.3048e-06 - val_loss: 1.0329 - val_accuracy: 0.8694 - val_binary_crossentropy: 1.0329\n",
      "Epoch 18/20\n",
      "25000/25000 [==============================] - 9s 377us/sample - loss: 6.4791e-06 - accuracy: 1.0000 - binary_crossentropy: 6.4791e-06 - val_loss: 1.0426 - val_accuracy: 0.8694 - val_binary_crossentropy: 1.0426\n",
      "Epoch 19/20\n",
      "25000/25000 [==============================] - 9s 376us/sample - loss: 5.7789e-06 - accuracy: 1.0000 - binary_crossentropy: 5.7789e-06 - val_loss: 1.0516 - val_accuracy: 0.8693 - val_binary_crossentropy: 1.0516\n",
      "Epoch 20/20\n",
      "25000/25000 [==============================] - 9s 376us/sample - loss: 5.1818e-06 - accuracy: 1.0000 - binary_crossentropy: 5.1818e-06 - val_loss: 1.0606 - val_accuracy: 0.8694 - val_binary_crossentropy: 1.0606\n"
     ]
    }
   ],
   "source": [
    "bigger_model = build_model(512)\n",
    "bigger_history = bigger_model.fit(\n",
    "            trainX,trainy,\n",
    "            validation_data=(testX,testy),\n",
    "            batch_size= 256,\n",
    "            epochs=20)"
   ]
  },
  {
   "cell_type": "code",
   "execution_count": 26,
   "metadata": {},
   "outputs": [
    {
     "data": {
      "image/png": "[encoded data removed]",
      "text/plain": [
       "<Figure size 432x288 with 1 Axes>"
      ]
     },
     "metadata": {},
     "output_type": "display_data"
    }
   ],
   "source": [
    "plt.plot(baseline_history.history['loss'],label='baseline')\n",
    "plt.plot(smaller_history.history['loss'],label='small')\n",
    "plt.plot(bigger_history.history['loss'],label='big')\n",
    "plt.plot(baseline_history.history['val_loss'],'--',label='baseline_val')\n",
    "plt.plot(smaller_history.history['val_loss'],'+',label='small_val')\n",
    "plt.plot(bigger_history.history['val_loss'],'*',label='big_val')\n",
    "plt.legend()\n",
    "plt.show()"
   ]
  },
  {
   "cell_type": "code",
   "execution_count": 33,
   "metadata": {},
   "outputs": [],
   "source": [
    "# build model\n",
    "def build_l2_model(num_units):\n",
    "    model = keras.models.Sequential([\n",
    "        keras.layers.Dense(num_units, activation='relu',\n",
    "                           kernel_regularizer = keras.regularizers.l2(0.001),\n",
    "                           input_shape=(DICT_LENGTH,)),\n",
    "        keras.layers.Dense(num_units, activation='relu',\n",
    "                          kernel_regularizer= keras.regularizers.l2(0.001)),\n",
    "        keras.layers.Dense(1, activation='sigmoid')\n",
    "    ])\n",
    "    model.compile(optimizer='adam',\n",
    "                 loss = 'binary_crossentropy',\n",
    "                 metrics=['accuracy','binary_crossentropy'])\n",
    "    model.summary()\n",
    "    return model"
   ]
  },
  {
   "cell_type": "code",
   "execution_count": 36,
   "metadata": {},
   "outputs": [
    {
     "name": "stdout",
     "output_type": "stream",
     "text": [
      "Model: \"sequential_6\"\n",
      "_________________________________________________________________\n",
      "Layer (type)                 Output Shape              Param #   \n",
      "=================================================================\n",
      "dense_18 (Dense)             (None, 16)                160016    \n",
      "_________________________________________________________________\n",
      "dense_19 (Dense)             (None, 16)                272       \n",
      "_________________________________________________________________\n",
      "dense_20 (Dense)             (None, 1)                 17        \n",
      "=================================================================\n",
      "Total params: 160,305\n",
      "Trainable params: 160,305\n",
      "Non-trainable params: 0\n",
      "_________________________________________________________________\n",
      "Train on 25000 samples, validate on 25000 samples\n",
      "Epoch 1/20\n",
      "25000/25000 [==============================] - 3s 102us/sample - loss: 0.4308 - accuracy: 0.8460 - binary_crossentropy: 0.3900 - val_loss: 0.3336 - val_accuracy: 0.8850 - val_binary_crossentropy: 0.2881\n",
      "Epoch 2/20\n",
      "25000/25000 [==============================] - 2s 91us/sample - loss: 0.2649 - accuracy: 0.9203 - binary_crossentropy: 0.2151 - val_loss: 0.3483 - val_accuracy: 0.8803 - val_binary_crossentropy: 0.2956\n",
      "Epoch 3/20\n",
      "25000/25000 [==============================] - 2s 93us/sample - loss: 0.2354 - accuracy: 0.9337 - binary_crossentropy: 0.1799 - val_loss: 0.3600 - val_accuracy: 0.8790 - val_binary_crossentropy: 0.3021\n",
      "Epoch 4/20\n",
      "25000/25000 [==============================] - 2s 91us/sample - loss: 0.2185 - accuracy: 0.9426 - binary_crossentropy: 0.1587 - val_loss: 0.3878 - val_accuracy: 0.8746 - val_binary_crossentropy: 0.3261\n",
      "Epoch 5/20\n",
      "25000/25000 [==============================] - 2s 90us/sample - loss: 0.2108 - accuracy: 0.9474 - binary_crossentropy: 0.1472 - val_loss: 0.4116 - val_accuracy: 0.8711 - val_binary_crossentropy: 0.3461\n",
      "Epoch 6/20\n",
      "25000/25000 [==============================] - 2s 90us/sample - loss: 0.1998 - accuracy: 0.9513 - binary_crossentropy: 0.1334 - val_loss: 0.4449 - val_accuracy: 0.8615 - val_binary_crossentropy: 0.3775\n",
      "Epoch 7/20\n",
      "25000/25000 [==============================] - 2s 92us/sample - loss: 0.1975 - accuracy: 0.9532 - binary_crossentropy: 0.1288 - val_loss: 0.4567 - val_accuracy: 0.8616 - val_binary_crossentropy: 0.3859\n",
      "Epoch 8/20\n",
      "25000/25000 [==============================] - 2s 91us/sample - loss: 0.1925 - accuracy: 0.9546 - binary_crossentropy: 0.1207 - val_loss: 0.4682 - val_accuracy: 0.8623 - val_binary_crossentropy: 0.3953\n",
      "Epoch 9/20\n",
      "25000/25000 [==============================] - 2s 90us/sample - loss: 0.1779 - accuracy: 0.9633 - binary_crossentropy: 0.1050 - val_loss: 0.4826 - val_accuracy: 0.8613 - val_binary_crossentropy: 0.4095\n",
      "Epoch 10/20\n",
      "25000/25000 [==============================] - 2s 91us/sample - loss: 0.1678 - accuracy: 0.9659 - binary_crossentropy: 0.0948 - val_loss: 0.4943 - val_accuracy: 0.8612 - val_binary_crossentropy: 0.4205\n",
      "Epoch 11/20\n",
      "25000/25000 [==============================] - 2s 91us/sample - loss: 0.1659 - accuracy: 0.9685 - binary_crossentropy: 0.0909 - val_loss: 0.5154 - val_accuracy: 0.8570 - val_binary_crossentropy: 0.4388\n",
      "Epoch 12/20\n",
      "25000/25000 [==============================] - 2s 92us/sample - loss: 0.1662 - accuracy: 0.9682 - binary_crossentropy: 0.0888 - val_loss: 0.5304 - val_accuracy: 0.8612 - val_binary_crossentropy: 0.4518\n",
      "Epoch 13/20\n",
      "25000/25000 [==============================] - 2s 90us/sample - loss: 0.1537 - accuracy: 0.9732 - binary_crossentropy: 0.0755 - val_loss: 0.5508 - val_accuracy: 0.8566 - val_binary_crossentropy: 0.4724\n",
      "Epoch 14/20\n",
      "25000/25000 [==============================] - 2s 90us/sample - loss: 0.1427 - accuracy: 0.9794 - binary_crossentropy: 0.0651 - val_loss: 0.5633 - val_accuracy: 0.8556 - val_binary_crossentropy: 0.4856\n",
      "Epoch 15/20\n",
      "25000/25000 [==============================] - 2s 90us/sample - loss: 0.1336 - accuracy: 0.9828 - binary_crossentropy: 0.0568 - val_loss: 0.5762 - val_accuracy: 0.8534 - val_binary_crossentropy: 0.4996\n",
      "Epoch 16/20\n",
      "25000/25000 [==============================] - 2s 91us/sample - loss: 0.1313 - accuracy: 0.9835 - binary_crossentropy: 0.0546 - val_loss: 0.5974 - val_accuracy: 0.8519 - val_binary_crossentropy: 0.5196\n",
      "Epoch 17/20\n",
      "25000/25000 [==============================] - 2s 92us/sample - loss: 0.1317 - accuracy: 0.9828 - binary_crossentropy: 0.0539 - val_loss: 0.6023 - val_accuracy: 0.8577 - val_binary_crossentropy: 0.5233\n",
      "Epoch 18/20\n",
      "25000/25000 [==============================] - 2s 89us/sample - loss: 0.1282 - accuracy: 0.9855 - binary_crossentropy: 0.0494 - val_loss: 0.6146 - val_accuracy: 0.8553 - val_binary_crossentropy: 0.5353\n",
      "Epoch 19/20\n",
      "25000/25000 [==============================] - 2s 90us/sample - loss: 0.1234 - accuracy: 0.9876 - binary_crossentropy: 0.0450 - val_loss: 0.6303 - val_accuracy: 0.8568 - val_binary_crossentropy: 0.5521\n",
      "Epoch 20/20\n",
      "25000/25000 [==============================] - 2s 90us/sample - loss: 0.1207 - accuracy: 0.9876 - binary_crossentropy: 0.0430 - val_loss: 0.6403 - val_accuracy: 0.8553 - val_binary_crossentropy: 0.5624\n"
     ]
    }
   ],
   "source": [
    "l2_baseline_model = build_l2_model(16)\n",
    "l2_baseline_history = l2_baseline_model.fit(\n",
    "            trainX,trainy,\n",
    "            validation_data=(testX,testy),\n",
    "            batch_size= 256,\n",
    "            epochs=20)"
   ]
  },
  {
   "cell_type": "code",
   "execution_count": 37,
   "metadata": {},
   "outputs": [
    {
     "data": {
      "image/png": "[encoded data removed]",
      "text/plain": [
       "<Figure size 432x288 with 1 Axes>"
      ]
     },
     "metadata": {},
     "output_type": "display_data"
    }
   ],
   "source": [
    "plt.plot(baseline_history.history['loss'],label='baseline_train')\n",
    "plt.plot(l2_baseline_history.history['loss'],label='l2_train')\n",
    "\n",
    "plt.plot(baseline_history.history['val_loss'],'--',label='baseline_val')\n",
    "plt.plot(l2_baseline_history.history['val_loss'],'+',label='l2_val')\n",
    "plt.legend()\n",
    "plt.show()"
   ]
  },
  {
   "cell_type": "code",
   "execution_count": 38,
   "metadata": {},
   "outputs": [],
   "source": [
    "# build dropout model\n",
    "def build_dropout_model(num_units):\n",
    "    model = keras.models.Sequential([\n",
    "        keras.layers.Dense(num_units, activation='relu',input_shape=(DICT_LENGTH,)),\n",
    "        keras.layers.Dropout(0.5),\n",
    "        keras.layers.Dense(num_units, activation='relu'),\n",
    "        keras.layers.Dropout(0.5),\n",
    "        keras.layers.Dense(1, activation='sigmoid')\n",
    "    ])\n",
    "    model.compile(optimizer='adam',\n",
    "                 loss = 'binary_crossentropy',\n",
    "                 metrics=['accuracy','binary_crossentropy'])\n",
    "    model.summary()\n",
    "    return model"
   ]
  },
  {
   "cell_type": "code",
   "execution_count": 39,
   "metadata": {},
   "outputs": [
    {
     "name": "stdout",
     "output_type": "stream",
     "text": [
      "Model: \"sequential_7\"\n",
      "_________________________________________________________________\n",
      "Layer (type)                 Output Shape              Param #   \n",
      "=================================================================\n",
      "dense_21 (Dense)             (None, 16)                160016    \n",
      "_________________________________________________________________\n",
      "dropout (Dropout)            (None, 16)                0         \n",
      "_________________________________________________________________\n",
      "dense_22 (Dense)             (None, 16)                272       \n",
      "_________________________________________________________________\n",
      "dropout_1 (Dropout)          (None, 16)                0         \n",
      "_________________________________________________________________\n",
      "dense_23 (Dense)             (None, 1)                 17        \n",
      "=================================================================\n",
      "Total params: 160,305\n",
      "Trainable params: 160,305\n",
      "Non-trainable params: 0\n",
      "_________________________________________________________________\n",
      "Train on 25000 samples, validate on 25000 samples\n",
      "Epoch 1/20\n",
      "25000/25000 [==============================] - 3s 106us/sample - loss: 0.5628 - accuracy: 0.7043 - binary_crossentropy: 0.5628 - val_loss: 0.3680 - val_accuracy: 0.8722 - val_binary_crossentropy: 0.3680\n",
      "Epoch 2/20\n",
      "25000/25000 [==============================] - 2s 93us/sample - loss: 0.3593 - accuracy: 0.8564 - binary_crossentropy: 0.3593 - val_loss: 0.2788 - val_accuracy: 0.8870 - val_binary_crossentropy: 0.2788\n",
      "Epoch 3/20\n",
      "25000/25000 [==============================] - 2s 94us/sample - loss: 0.2750 - accuracy: 0.8962 - binary_crossentropy: 0.2750 - val_loss: 0.2773 - val_accuracy: 0.8864 - val_binary_crossentropy: 0.2773\n",
      "Epoch 4/20\n",
      "25000/25000 [==============================] - 2s 93us/sample - loss: 0.2234 - accuracy: 0.9191 - binary_crossentropy: 0.2234 - val_loss: 0.2876 - val_accuracy: 0.8868 - val_binary_crossentropy: 0.2876\n",
      "Epoch 5/20\n",
      "25000/25000 [==============================] - 2s 92us/sample - loss: 0.1930 - accuracy: 0.9326 - binary_crossentropy: 0.1930 - val_loss: 0.3138 - val_accuracy: 0.8845 - val_binary_crossentropy: 0.3138\n",
      "Epoch 6/20\n",
      "25000/25000 [==============================] - 2s 89us/sample - loss: 0.1678 - accuracy: 0.9418 - binary_crossentropy: 0.1678 - val_loss: 0.3393 - val_accuracy: 0.8811 - val_binary_crossentropy: 0.3393\n",
      "Epoch 7/20\n",
      "25000/25000 [==============================] - 2s 92us/sample - loss: 0.1489 - accuracy: 0.9481 - binary_crossentropy: 0.1489 - val_loss: 0.3514 - val_accuracy: 0.8797 - val_binary_crossentropy: 0.3514\n",
      "Epoch 8/20\n",
      "25000/25000 [==============================] - 2s 94us/sample - loss: 0.1314 - accuracy: 0.9514 - binary_crossentropy: 0.1314 - val_loss: 0.3986 - val_accuracy: 0.8786 - val_binary_crossentropy: 0.3986\n",
      "Epoch 9/20\n",
      "25000/25000 [==============================] - 2s 93us/sample - loss: 0.1206 - accuracy: 0.9542 - binary_crossentropy: 0.1206 - val_loss: 0.4209 - val_accuracy: 0.8751 - val_binary_crossentropy: 0.4209\n",
      "Epoch 10/20\n",
      "25000/25000 [==============================] - 2s 92us/sample - loss: 0.1063 - accuracy: 0.9598 - binary_crossentropy: 0.1063 - val_loss: 0.4320 - val_accuracy: 0.8758 - val_binary_crossentropy: 0.4320\n",
      "Epoch 11/20\n",
      "25000/25000 [==============================] - 2s 91us/sample - loss: 0.0983 - accuracy: 0.9615 - binary_crossentropy: 0.0983 - val_loss: 0.4466 - val_accuracy: 0.8750 - val_binary_crossentropy: 0.4466\n",
      "Epoch 12/20\n",
      "25000/25000 [==============================] - 2s 90us/sample - loss: 0.0893 - accuracy: 0.9639 - binary_crossentropy: 0.0893 - val_loss: 0.4863 - val_accuracy: 0.8754 - val_binary_crossentropy: 0.4863\n",
      "Epoch 13/20\n",
      "25000/25000 [==============================] - 2s 91us/sample - loss: 0.0846 - accuracy: 0.9657 - binary_crossentropy: 0.0846 - val_loss: 0.4971 - val_accuracy: 0.8754 - val_binary_crossentropy: 0.4971\n",
      "Epoch 14/20\n",
      "25000/25000 [==============================] - 2s 93us/sample - loss: 0.0860 - accuracy: 0.9640 - binary_crossentropy: 0.0860 - val_loss: 0.5488 - val_accuracy: 0.8757 - val_binary_crossentropy: 0.5488\n",
      "Epoch 15/20\n",
      "25000/25000 [==============================] - 2s 92us/sample - loss: 0.0816 - accuracy: 0.9654 - binary_crossentropy: 0.0816 - val_loss: 0.5589 - val_accuracy: 0.8758 - val_binary_crossentropy: 0.5589\n",
      "Epoch 16/20\n",
      "25000/25000 [==============================] - 2s 91us/sample - loss: 0.0735 - accuracy: 0.9704 - binary_crossentropy: 0.0735 - val_loss: 0.5519 - val_accuracy: 0.8740 - val_binary_crossentropy: 0.5519\n",
      "Epoch 17/20\n",
      "25000/25000 [==============================] - 2s 91us/sample - loss: 0.0716 - accuracy: 0.9676 - binary_crossentropy: 0.0716 - val_loss: 0.6027 - val_accuracy: 0.8719 - val_binary_crossentropy: 0.6027\n",
      "Epoch 18/20\n",
      "25000/25000 [==============================] - 2s 91us/sample - loss: 0.0721 - accuracy: 0.9682 - binary_crossentropy: 0.0721 - val_loss: 0.6195 - val_accuracy: 0.8725 - val_binary_crossentropy: 0.6195\n",
      "Epoch 19/20\n",
      "25000/25000 [==============================] - 2s 94us/sample - loss: 0.0687 - accuracy: 0.9690 - binary_crossentropy: 0.0687 - val_loss: 0.6555 - val_accuracy: 0.8724 - val_binary_crossentropy: 0.6555\n",
      "Epoch 20/20\n",
      "25000/25000 [==============================] - 2s 93us/sample - loss: 0.0720 - accuracy: 0.9673 - binary_crossentropy: 0.0720 - val_loss: 0.6305 - val_accuracy: 0.8734 - val_binary_crossentropy: 0.6305\n"
     ]
    }
   ],
   "source": [
    "dropout_baseline_model = build_dropout_model(16)\n",
    "dropout_baseline_history = dropout_baseline_model.fit(\n",
    "            trainX,trainy,\n",
    "            validation_data=(testX,testy),\n",
    "            batch_size= 256,\n",
    "            epochs=20)"
   ]
  },
  {
   "cell_type": "code",
   "execution_count": 40,
   "metadata": {},
   "outputs": [
    {
     "data": {
      "image/png": "[encoded data removed]",
      "text/plain": [
       "<Figure size 432x288 with 1 Axes>"
      ]
     },
     "metadata": {},
     "output_type": "display_data"
    }
   ],
   "source": [
    "plt.plot(baseline_history.history['loss'],label='baseline_train')\n",
    "plt.plot(dropout_baseline_history.history['loss'],label='dropout_train')\n",
    "\n",
    "plt.plot(baseline_history.history['val_loss'],'--',label='baseline_val')\n",
    "plt.plot(dropout_baseline_history.history['val_loss'],'+',label='dropout_val')\n",
    "plt.legend()\n",
    "plt.show()"
   ]
  },
  {
   "cell_type": "code",
   "execution_count": null,
   "metadata": {},
   "outputs": [],
   "source": []
  }
 ],
 "metadata": {
  "kernelspec": {
   "display_name": "Python 3",
   "language": "python",
   "name": "python3"
  },
  "language_info": {
   "codemirror_mode": {
    "name": "ipython",
    "version": 3
   },
   "file_extension": ".py",
   "mimetype": "text/x-python",
   "name": "python",
   "nbconvert_exporter": "python",
   "pygments_lexer": "ipython3",
   "version": "3.6.5"
  }
 },
 "nbformat": 4,
 "nbformat_minor": 2
}
