{
 "cells": [
  {
   "cell_type": "code",
   "execution_count": 38,
   "metadata": {},
   "outputs": [
    {
     "name": "stderr",
     "output_type": "stream",
     "text": [
      "/home/ubuntu/anaconda3/envs/tensorflow_p36/lib/python3.6/site-packages/matplotlib/font_manager.py:278: UserWarning: Matplotlib is building the font cache using fc-list. This may take a moment.\n",
      "  'Matplotlib is building the font cache using fc-list. '\n"
     ]
    }
   ],
   "source": [
    "import numpy as np\n",
    "import pandas as pd\n",
    "import matplotlib.pyplot as plt\n",
    "%matplotlib inline\n",
    "import tensorflow as tf\n",
    "import tensorflow.keras as keras\n",
    "from tensorflow import feature_column\n",
    "from sklearn.model_selection import train_test_split"
   ]
  },
  {
   "cell_type": "code",
   "execution_count": 7,
   "metadata": {},
   "outputs": [
    {
     "name": "stdout",
     "output_type": "stream",
     "text": [
      "(303, 14)\n"
     ]
    },
    {
     "data": {
      "text/html": [
       "<div>\n",
       "<style scoped>\n",
       "    .dataframe tbody tr th:only-of-type {\n",
       "        vertical-align: middle;\n",
       "    }\n",
       "\n",
       "    .dataframe tbody tr th {\n",
       "        vertical-align: top;\n",
       "    }\n",
       "\n",
       "    .dataframe thead th {\n",
       "        text-align: right;\n",
       "    }\n",
       "</style>\n",
       "<table border=\"1\" class=\"dataframe\">\n",
       "  <thead>\n",
       "    <tr style=\"text-align: right;\">\n",
       "      <th></th>\n",
       "      <th>age</th>\n",
       "      <th>sex</th>\n",
       "      <th>cp</th>\n",
       "      <th>trestbps</th>\n",
       "      <th>chol</th>\n",
       "      <th>fbs</th>\n",
       "      <th>restecg</th>\n",
       "      <th>thalach</th>\n",
       "      <th>exang</th>\n",
       "      <th>oldpeak</th>\n",
       "      <th>slope</th>\n",
       "      <th>ca</th>\n",
       "      <th>thal</th>\n",
       "      <th>target</th>\n",
       "    </tr>\n",
       "  </thead>\n",
       "  <tbody>\n",
       "    <tr>\n",
       "      <th>0</th>\n",
       "      <td>63</td>\n",
       "      <td>1</td>\n",
       "      <td>1</td>\n",
       "      <td>145</td>\n",
       "      <td>233</td>\n",
       "      <td>1</td>\n",
       "      <td>2</td>\n",
       "      <td>150</td>\n",
       "      <td>0</td>\n",
       "      <td>2.3</td>\n",
       "      <td>3</td>\n",
       "      <td>0</td>\n",
       "      <td>fixed</td>\n",
       "      <td>0</td>\n",
       "    </tr>\n",
       "    <tr>\n",
       "      <th>1</th>\n",
       "      <td>67</td>\n",
       "      <td>1</td>\n",
       "      <td>4</td>\n",
       "      <td>160</td>\n",
       "      <td>286</td>\n",
       "      <td>0</td>\n",
       "      <td>2</td>\n",
       "      <td>108</td>\n",
       "      <td>1</td>\n",
       "      <td>1.5</td>\n",
       "      <td>2</td>\n",
       "      <td>3</td>\n",
       "      <td>normal</td>\n",
       "      <td>1</td>\n",
       "    </tr>\n",
       "    <tr>\n",
       "      <th>2</th>\n",
       "      <td>67</td>\n",
       "      <td>1</td>\n",
       "      <td>4</td>\n",
       "      <td>120</td>\n",
       "      <td>229</td>\n",
       "      <td>0</td>\n",
       "      <td>2</td>\n",
       "      <td>129</td>\n",
       "      <td>1</td>\n",
       "      <td>2.6</td>\n",
       "      <td>2</td>\n",
       "      <td>2</td>\n",
       "      <td>reversible</td>\n",
       "      <td>0</td>\n",
       "    </tr>\n",
       "    <tr>\n",
       "      <th>3</th>\n",
       "      <td>37</td>\n",
       "      <td>1</td>\n",
       "      <td>3</td>\n",
       "      <td>130</td>\n",
       "      <td>250</td>\n",
       "      <td>0</td>\n",
       "      <td>0</td>\n",
       "      <td>187</td>\n",
       "      <td>0</td>\n",
       "      <td>3.5</td>\n",
       "      <td>3</td>\n",
       "      <td>0</td>\n",
       "      <td>normal</td>\n",
       "      <td>0</td>\n",
       "    </tr>\n",
       "    <tr>\n",
       "      <th>4</th>\n",
       "      <td>41</td>\n",
       "      <td>0</td>\n",
       "      <td>2</td>\n",
       "      <td>130</td>\n",
       "      <td>204</td>\n",
       "      <td>0</td>\n",
       "      <td>2</td>\n",
       "      <td>172</td>\n",
       "      <td>0</td>\n",
       "      <td>1.4</td>\n",
       "      <td>1</td>\n",
       "      <td>0</td>\n",
       "      <td>normal</td>\n",
       "      <td>0</td>\n",
       "    </tr>\n",
       "  </tbody>\n",
       "</table>\n",
       "</div>"
      ],
      "text/plain": [
       "   age  sex  cp  trestbps  chol  fbs  restecg  thalach  exang  oldpeak  slope  \\\n",
       "0   63    1   1       145   233    1        2      150      0      2.3      3   \n",
       "1   67    1   4       160   286    0        2      108      1      1.5      2   \n",
       "2   67    1   4       120   229    0        2      129      1      2.6      2   \n",
       "3   37    1   3       130   250    0        0      187      0      3.5      3   \n",
       "4   41    0   2       130   204    0        2      172      0      1.4      1   \n",
       "\n",
       "   ca        thal  target  \n",
       "0   0       fixed       0  \n",
       "1   3      normal       1  \n",
       "2   2  reversible       0  \n",
       "3   0      normal       0  \n",
       "4   0      normal       0  "
      ]
     },
     "execution_count": 7,
     "metadata": {},
     "output_type": "execute_result"
    }
   ],
   "source": [
    "# Load the dataset\n",
    "df = pd.read_csv('https://storage.googleapis.com/applied-dl/heart.csv')\n",
    "print(df.shape)\n",
    "df.head()"
   ]
  },
  {
   "cell_type": "code",
   "execution_count": 8,
   "metadata": {},
   "outputs": [
    {
     "name": "stdout",
     "output_type": "stream",
     "text": [
      "193 49 61\n"
     ]
    }
   ],
   "source": [
    "# create train, val and test subsets\n",
    "(train,test) = train_test_split(df,test_size=0.2)\n",
    "(train,val) = train_test_split(train,test_size=0.2)\n",
    "print(len(train),len(val),len(test))"
   ]
  },
  {
   "cell_type": "code",
   "execution_count": 41,
   "metadata": {},
   "outputs": [],
   "source": [
    "# Convert the dataframes into datasets\n",
    "def convert_df_to_ds(df,shuffle=True,batch_size=32):\n",
    "    df = df.copy()\n",
    "    labels = df.pop('target')\n",
    "    ds = tf.data.Dataset.from_tensor_slices((dict(df),labels))\n",
    "    if shuffle:\n",
    "        ds = ds.shuffle(buffer_size = len(df))\n",
    "    ds = ds.batch(batch_size)\n",
    "    return ds\n",
    "trainDS = convert_df_to_ds(train)\n",
    "valDS = convert_df_to_ds(val)\n",
    "testDS = convert_df_to_ds(test)"
   ]
  },
  {
   "cell_type": "code",
   "execution_count": 42,
   "metadata": {},
   "outputs": [],
   "source": [
    "# Use this utility method to see the effect of feature_columns\n",
    "def display_feature(ds,feature):\n",
    "    rows = next(iter(ds))[0]\n",
    "    fl = keras.layers.DenseFeatures(feature)\n",
    "    print(fl(rows).numpy())\n",
    "\n",
    "# display_feature(trainDS,feature_column.numeric_column('trestbps'))\n",
    "# display_feature(trainDS,feature_column.bucketized_column(\n",
    "#                     feature_column.numeric_column('age'),\n",
    "#                     boundaries=[18,25,30,35,40,45,50,55,60,65,70,75]))\n",
    "# display_feature(trainDS,feature_column.indicator_column(\n",
    "#                 feature_column.categorical_column_with_vocabulary_list(\n",
    "#                 'thal',['fixed','normal','reversible'])))"
   ]
  },
  {
   "cell_type": "code",
   "execution_count": 43,
   "metadata": {},
   "outputs": [],
   "source": [
    "# Create feature list\n",
    "features = []\n",
    "for col in ['age','trestbps','chol','thalach','oldpeak','slope','ca']:\n",
    "    features.append(feature_column.numeric_column(col))\n",
    "features.append(feature_column.indicator_column(\n",
    "                feature_column.categorical_column_with_identity('sex',\n",
    "                num_buckets=2)))\n",
    "features.append(feature_column.indicator_column(\n",
    "                feature_column.categorical_column_with_identity('cp',\n",
    "                num_buckets=5)))\n",
    "features.append(feature_column.indicator_column(\n",
    "                feature_column.categorical_column_with_identity('fbs',\n",
    "                num_buckets=2)))\n",
    "features.append(feature_column.indicator_column(\n",
    "                feature_column.categorical_column_with_identity('restecg',\n",
    "                num_buckets=3)))\n",
    "features.append(feature_column.indicator_column(\n",
    "                feature_column.categorical_column_with_identity('exang',\n",
    "                num_buckets=2)))\n",
    "features.append(feature_column.indicator_column(\n",
    "                feature_column.categorical_column_with_vocabulary_list(\n",
    "                    'thal',['fixed','normal','reversible'])))"
   ]
  },
  {
   "cell_type": "code",
   "execution_count": 44,
   "metadata": {},
   "outputs": [],
   "source": [
    "def build_model():\n",
    "    model = keras.Sequential([\n",
    "        keras.layers.DenseFeatures(features),\n",
    "        keras.layers.Dense(100,activation='relu'),\n",
    "        keras.layers.Dense(100,activation='relu'),\n",
    "        keras.layers.Dense(1,activation='sigmoid')\n",
    "    ])\n",
    "    model.compile(optimizer='adam',\n",
    "                 loss='binary_crossentropy',\n",
    "                 metrics=['accuracy'])\n",
    "    return model"
   ]
  },
  {
   "cell_type": "code",
   "execution_count": 53,
   "metadata": {},
   "outputs": [],
   "source": [
    "model = build_model()"
   ]
  },
  {
   "cell_type": "code",
   "execution_count": 54,
   "metadata": {},
   "outputs": [
    {
     "name": "stdout",
     "output_type": "stream",
     "text": [
      "Epoch 1/50\n",
      "7/7 [==============================] - 1s 78ms/step - loss: 4.9907 - accuracy: 0.3989 - val_loss: 3.0808 - val_accuracy: 0.7551\n",
      "Epoch 2/50\n",
      "7/7 [==============================] - 0s 25ms/step - loss: 3.9925 - accuracy: 0.7432 - val_loss: 2.4564 - val_accuracy: 0.7551\n",
      "Epoch 3/50\n",
      "7/7 [==============================] - 0s 26ms/step - loss: 1.7134 - accuracy: 0.6864 - val_loss: 0.6545 - val_accuracy: 0.7551\n",
      "Epoch 4/50\n",
      "7/7 [==============================] - 0s 26ms/step - loss: 2.4561 - accuracy: 0.7393 - val_loss: 0.8340 - val_accuracy: 0.7755\n",
      "Epoch 5/50\n",
      "7/7 [==============================] - 0s 26ms/step - loss: 0.8315 - accuracy: 0.7221 - val_loss: 0.4989 - val_accuracy: 0.8571\n",
      "Epoch 6/50\n",
      "7/7 [==============================] - 0s 26ms/step - loss: 1.0847 - accuracy: 0.7154 - val_loss: 1.0311 - val_accuracy: 0.5714\n",
      "Epoch 7/50\n",
      "7/7 [==============================] - 0s 26ms/step - loss: 0.9382 - accuracy: 0.5817 - val_loss: 0.4314 - val_accuracy: 0.8571\n",
      "Epoch 8/50\n",
      "7/7 [==============================] - 0s 26ms/step - loss: 0.5642 - accuracy: 0.7581 - val_loss: 0.5122 - val_accuracy: 0.7755\n",
      "Epoch 9/50\n",
      "7/7 [==============================] - 0s 26ms/step - loss: 0.7542 - accuracy: 0.6749 - val_loss: 0.9268 - val_accuracy: 0.5510\n",
      "Epoch 10/50\n",
      "7/7 [==============================] - 0s 26ms/step - loss: 0.7517 - accuracy: 0.6237 - val_loss: 0.5631 - val_accuracy: 0.7347\n",
      "Epoch 11/50\n",
      "7/7 [==============================] - 0s 26ms/step - loss: 0.5653 - accuracy: 0.7052 - val_loss: 0.4626 - val_accuracy: 0.7959\n",
      "Epoch 12/50\n",
      "7/7 [==============================] - 0s 26ms/step - loss: 0.5321 - accuracy: 0.6986 - val_loss: 0.4781 - val_accuracy: 0.8163\n",
      "Epoch 13/50\n",
      "7/7 [==============================] - 0s 26ms/step - loss: 0.5767 - accuracy: 0.7153 - val_loss: 0.6200 - val_accuracy: 0.6939\n",
      "Epoch 14/50\n",
      "7/7 [==============================] - 0s 26ms/step - loss: 0.6069 - accuracy: 0.6769 - val_loss: 0.8109 - val_accuracy: 0.4082\n",
      "Epoch 15/50\n",
      "7/7 [==============================] - 0s 27ms/step - loss: 0.6433 - accuracy: 0.6446 - val_loss: 0.7790 - val_accuracy: 0.5102\n",
      "Epoch 16/50\n",
      "7/7 [==============================] - 0s 26ms/step - loss: 0.6440 - accuracy: 0.6603 - val_loss: 0.4764 - val_accuracy: 0.8367\n",
      "Epoch 17/50\n",
      "7/7 [==============================] - 0s 27ms/step - loss: 0.5063 - accuracy: 0.7536 - val_loss: 0.3667 - val_accuracy: 0.8571\n",
      "Epoch 18/50\n",
      "7/7 [==============================] - 0s 26ms/step - loss: 0.4249 - accuracy: 0.8027 - val_loss: 0.4362 - val_accuracy: 0.8571\n",
      "Epoch 19/50\n",
      "7/7 [==============================] - 0s 26ms/step - loss: 0.4366 - accuracy: 0.7459 - val_loss: 0.5520 - val_accuracy: 0.7959\n",
      "Epoch 20/50\n",
      "7/7 [==============================] - 0s 26ms/step - loss: 0.4889 - accuracy: 0.7331 - val_loss: 0.6781 - val_accuracy: 0.6122\n",
      "Epoch 21/50\n",
      "7/7 [==============================] - 0s 26ms/step - loss: 0.5511 - accuracy: 0.6745 - val_loss: 0.6589 - val_accuracy: 0.6327\n",
      "Epoch 22/50\n",
      "7/7 [==============================] - 0s 26ms/step - loss: 0.5708 - accuracy: 0.6969 - val_loss: 0.4735 - val_accuracy: 0.8163\n",
      "Epoch 23/50\n",
      "7/7 [==============================] - 0s 26ms/step - loss: 0.4987 - accuracy: 0.7642 - val_loss: 0.3879 - val_accuracy: 0.8776\n",
      "Epoch 24/50\n",
      "7/7 [==============================] - 0s 26ms/step - loss: 0.4337 - accuracy: 0.7642 - val_loss: 0.4304 - val_accuracy: 0.8776\n",
      "Epoch 25/50\n",
      "7/7 [==============================] - 0s 26ms/step - loss: 0.4264 - accuracy: 0.7625 - val_loss: 0.4968 - val_accuracy: 0.8163\n",
      "Epoch 26/50\n",
      "7/7 [==============================] - 0s 26ms/step - loss: 0.4521 - accuracy: 0.7530 - val_loss: 0.5355 - val_accuracy: 0.7347\n",
      "Epoch 27/50\n",
      "7/7 [==============================] - 0s 26ms/step - loss: 0.4864 - accuracy: 0.7528 - val_loss: 0.5404 - val_accuracy: 0.7347\n",
      "Epoch 28/50\n",
      "7/7 [==============================] - 0s 26ms/step - loss: 0.4933 - accuracy: 0.7578 - val_loss: 0.4890 - val_accuracy: 0.7959\n",
      "Epoch 29/50\n",
      "7/7 [==============================] - 0s 27ms/step - loss: 0.4689 - accuracy: 0.7685 - val_loss: 0.4163 - val_accuracy: 0.8571\n",
      "Epoch 30/50\n",
      "7/7 [==============================] - 0s 26ms/step - loss: 0.4340 - accuracy: 0.7840 - val_loss: 0.3996 - val_accuracy: 0.8776\n",
      "Epoch 31/50\n",
      "7/7 [==============================] - 0s 26ms/step - loss: 0.4186 - accuracy: 0.7821 - val_loss: 0.4410 - val_accuracy: 0.8571\n",
      "Epoch 32/50\n",
      "7/7 [==============================] - 0s 26ms/step - loss: 0.4283 - accuracy: 0.7667 - val_loss: 0.4734 - val_accuracy: 0.8163\n",
      "Epoch 33/50\n",
      "7/7 [==============================] - 0s 26ms/step - loss: 0.4454 - accuracy: 0.7636 - val_loss: 0.4757 - val_accuracy: 0.8163\n",
      "Epoch 34/50\n",
      "7/7 [==============================] - 0s 26ms/step - loss: 0.4514 - accuracy: 0.7717 - val_loss: 0.4625 - val_accuracy: 0.8163\n",
      "Epoch 35/50\n",
      "7/7 [==============================] - 0s 26ms/step - loss: 0.4388 - accuracy: 0.7737 - val_loss: 0.4282 - val_accuracy: 0.8571\n",
      "Epoch 36/50\n",
      "7/7 [==============================] - 0s 26ms/step - loss: 0.4257 - accuracy: 0.7852 - val_loss: 0.4088 - val_accuracy: 0.8571\n",
      "Epoch 37/50\n",
      "7/7 [==============================] - 0s 26ms/step - loss: 0.4136 - accuracy: 0.7815 - val_loss: 0.4153 - val_accuracy: 0.8571\n",
      "Epoch 38/50\n",
      "7/7 [==============================] - 0s 26ms/step - loss: 0.4110 - accuracy: 0.8001 - val_loss: 0.4245 - val_accuracy: 0.8571\n",
      "Epoch 39/50\n",
      "7/7 [==============================] - 0s 26ms/step - loss: 0.4151 - accuracy: 0.7923 - val_loss: 0.4194 - val_accuracy: 0.8571\n",
      "Epoch 40/50\n",
      "7/7 [==============================] - 0s 26ms/step - loss: 0.4126 - accuracy: 0.7923 - val_loss: 0.4149 - val_accuracy: 0.8776\n",
      "Epoch 41/50\n",
      "7/7 [==============================] - 0s 26ms/step - loss: 0.4048 - accuracy: 0.7923 - val_loss: 0.4073 - val_accuracy: 0.8776\n",
      "Epoch 42/50\n",
      "7/7 [==============================] - 0s 26ms/step - loss: 0.4019 - accuracy: 0.7951 - val_loss: 0.4176 - val_accuracy: 0.8776\n",
      "Epoch 43/50\n",
      "7/7 [==============================] - 0s 26ms/step - loss: 0.4021 - accuracy: 0.7923 - val_loss: 0.4195 - val_accuracy: 0.8571\n",
      "Epoch 44/50\n",
      "7/7 [==============================] - 0s 25ms/step - loss: 0.4044 - accuracy: 0.7923 - val_loss: 0.3944 - val_accuracy: 0.8571\n",
      "Epoch 45/50\n",
      "7/7 [==============================] - 0s 26ms/step - loss: 0.3977 - accuracy: 0.7951 - val_loss: 0.3857 - val_accuracy: 0.8776\n",
      "Epoch 46/50\n",
      "7/7 [==============================] - 0s 26ms/step - loss: 0.3853 - accuracy: 0.7923 - val_loss: 0.4075 - val_accuracy: 0.8571\n",
      "Epoch 47/50\n",
      "7/7 [==============================] - 0s 26ms/step - loss: 0.3928 - accuracy: 0.7923 - val_loss: 0.4085 - val_accuracy: 0.8571\n",
      "Epoch 48/50\n",
      "7/7 [==============================] - 0s 26ms/step - loss: 0.3953 - accuracy: 0.7904 - val_loss: 0.3895 - val_accuracy: 0.8571\n",
      "Epoch 49/50\n",
      "7/7 [==============================] - 0s 26ms/step - loss: 0.3854 - accuracy: 0.7951 - val_loss: 0.3731 - val_accuracy: 0.8776\n",
      "Epoch 50/50\n",
      "7/7 [==============================] - 0s 26ms/step - loss: 0.3754 - accuracy: 0.7988 - val_loss: 0.3751 - val_accuracy: 0.8980\n"
     ]
    }
   ],
   "source": [
    "history = model.fit(trainDS,validation_data=valDS,epochs=50)"
   ]
  },
  {
   "cell_type": "code",
   "execution_count": 55,
   "metadata": {},
   "outputs": [
    {
     "data": {
      "image/png": "[encoded data removed]",
      "text/plain": [
       "<Figure size 432x288 with 1 Axes>"
      ]
     },
     "metadata": {},
     "output_type": "display_data"
    }
   ],
   "source": [
    "plt.plot(history.history['loss'],label='train')\n",
    "plt.plot(history.history['val_loss'],label='val')\n",
    "plt.legend()\n",
    "plt.show()"
   ]
  },
  {
   "cell_type": "code",
   "execution_count": 56,
   "metadata": {},
   "outputs": [
    {
     "name": "stdout",
     "output_type": "stream",
     "text": [
      "2/2 [==============================] - 0s 15ms/step - loss: 0.6200 - accuracy: 0.7541\n",
      "0.75409836\n"
     ]
    }
   ],
   "source": [
    "loss,accuracy = model.evaluate(testDS)\n",
    "print(accuracy)"
   ]
  },
  {
   "cell_type": "code",
   "execution_count": null,
   "metadata": {},
   "outputs": [],
   "source": []
  }
 ],
 "metadata": {
  "kernelspec": {
   "display_name": "Python 3",
   "language": "python",
   "name": "python3"
  },
  "language_info": {
   "codemirror_mode": {
    "name": "ipython",
    "version": 3
   },
   "file_extension": ".py",
   "mimetype": "text/x-python",
   "name": "python",
   "nbconvert_exporter": "python",
   "pygments_lexer": "ipython3",
   "version": "3.6.5"
  }
 },
 "nbformat": 4,
 "nbformat_minor": 2
}
