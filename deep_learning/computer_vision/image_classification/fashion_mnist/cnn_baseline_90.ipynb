{
 "cells": [
  {
   "cell_type": "code",
   "execution_count": 1,
   "metadata": {},
   "outputs": [],
   "source": [
    "import numpy as np\n",
    "import matplotlib.pyplot as plt\n",
    "%matplotlib inline\n",
    "\n",
    "import tensorflow as tf\n",
    "from tensorflow import keras\n",
    "from tensorflow.keras import models,layers,datasets"
   ]
  },
  {
   "cell_type": "code",
   "execution_count": 5,
   "metadata": {},
   "outputs": [
    {
     "name": "stdout",
     "output_type": "stream",
     "text": [
      "(60000, 28, 28, 1) (60000,) (10000, 28, 28, 1) (10000,)\n"
     ]
    }
   ],
   "source": [
    "# load the data\n",
    "(trainX,trainy),(testX,testy) = datasets.fashion_mnist.load_data()\n",
    "trainX = trainX/255.0\n",
    "testX = testX/255.0\n",
    "trainX = tf.expand_dims(trainX,-1)\n",
    "testX = tf.expand_dims(testX,-1)\n",
    "print(trainX.shape,trainy.shape,testX.shape,testy.shape)"
   ]
  },
  {
   "cell_type": "code",
   "execution_count": 13,
   "metadata": {},
   "outputs": [],
   "source": [
    "# build the model\n",
    "def build_model():\n",
    "    model = models.Sequential([\n",
    "        layers.Conv2D(32,(3,3),activation='relu',input_shape=(28,28,1)),\n",
    "        layers.MaxPool2D((2,2)),\n",
    "        layers.Conv2D(64,(3,3),activation='relu'),\n",
    "        layers.MaxPool2D((2,2)),\n",
    "        layers.Conv2D(64,(3,3),activation='relu'),\n",
    "        layers.Flatten(),\n",
    "        layers.Dense(64,activation='relu'),\n",
    "        layers.Dense(10,activation='softmax')\n",
    "    ])\n",
    "    model.compile(optimizer='adam',\n",
    "                 loss='sparse_categorical_crossentropy',\n",
    "                 metrics=['accuracy'])\n",
    "    model.summary()\n",
    "    return model"
   ]
  },
  {
   "cell_type": "code",
   "execution_count": 17,
   "metadata": {},
   "outputs": [
    {
     "name": "stdout",
     "output_type": "stream",
     "text": [
      "Model: \"sequential_3\"\n",
      "_________________________________________________________________\n",
      "Layer (type)                 Output Shape              Param #   \n",
      "=================================================================\n",
      "conv2d_9 (Conv2D)            (None, 26, 26, 32)        320       \n",
      "_________________________________________________________________\n",
      "max_pooling2d_6 (MaxPooling2 (None, 13, 13, 32)        0         \n",
      "_________________________________________________________________\n",
      "conv2d_10 (Conv2D)           (None, 11, 11, 64)        18496     \n",
      "_________________________________________________________________\n",
      "max_pooling2d_7 (MaxPooling2 (None, 5, 5, 64)          0         \n",
      "_________________________________________________________________\n",
      "conv2d_11 (Conv2D)           (None, 3, 3, 64)          36928     \n",
      "_________________________________________________________________\n",
      "flatten_3 (Flatten)          (None, 576)               0         \n",
      "_________________________________________________________________\n",
      "dense_6 (Dense)              (None, 64)                36928     \n",
      "_________________________________________________________________\n",
      "dense_7 (Dense)              (None, 10)                650       \n",
      "=================================================================\n",
      "Total params: 93,322\n",
      "Trainable params: 93,322\n",
      "Non-trainable params: 0\n",
      "_________________________________________________________________\n"
     ]
    }
   ],
   "source": [
    "model = build_model()"
   ]
  },
  {
   "cell_type": "code",
   "execution_count": null,
   "metadata": {},
   "outputs": [
    {
     "name": "stdout",
     "output_type": "stream",
     "text": [
      "Train on 60000 samples, validate on 10000 samples\n",
      "Epoch 1/20\n",
      "60000/60000 [==============================] - 28s 475us/sample - loss: 0.5034 - accuracy: 0.8161 - val_loss: 0.3635 - val_accuracy: 0.8672\n",
      "Epoch 2/20\n",
      "60000/60000 [==============================] - 28s 465us/sample - loss: 0.3234 - accuracy: 0.8808 - val_loss: 0.3221 - val_accuracy: 0.8856\n",
      "Epoch 3/20\n",
      "60000/60000 [==============================] - 28s 465us/sample - loss: 0.2786 - accuracy: 0.8971 - val_loss: 0.3214 - val_accuracy: 0.8821\n",
      "Epoch 4/20\n",
      "60000/60000 [==============================] - 28s 464us/sample - loss: 0.2451 - accuracy: 0.9103 - val_loss: 0.2681 - val_accuracy: 0.9020\n",
      "Epoch 5/20\n",
      "60000/60000 [==============================] - 28s 464us/sample - loss: 0.2220 - accuracy: 0.9179 - val_loss: 0.2632 - val_accuracy: 0.9072\n",
      "Epoch 6/20\n",
      "60000/60000 [==============================] - 28s 462us/sample - loss: 0.2007 - accuracy: 0.9247 - val_loss: 0.2670 - val_accuracy: 0.9058\n",
      "Epoch 7/20\n",
      "60000/60000 [==============================] - 28s 468us/sample - loss: 0.1815 - accuracy: 0.9327 - val_loss: 0.2665 - val_accuracy: 0.9049\n",
      "Epoch 8/20\n",
      "60000/60000 [==============================] - 28s 474us/sample - loss: 0.1673 - accuracy: 0.9377 - val_loss: 0.2681 - val_accuracy: 0.9121\n",
      "Epoch 9/20\n",
      "60000/60000 [==============================] - 28s 464us/sample - loss: 0.1507 - accuracy: 0.9440 - val_loss: 0.2658 - val_accuracy: 0.9119\n",
      "Epoch 10/20\n",
      "60000/60000 [==============================] - 28s 474us/sample - loss: 0.1400 - accuracy: 0.9475 - val_loss: 0.3002 - val_accuracy: 0.9080\n",
      "Epoch 11/20\n",
      "60000/60000 [==============================] - 28s 464us/sample - loss: 0.1261 - accuracy: 0.9532 - val_loss: 0.2816 - val_accuracy: 0.9136\n",
      "Epoch 12/20\n",
      "60000/60000 [==============================] - 29s 491us/sample - loss: 0.1178 - accuracy: 0.9560 - val_loss: 0.3028 - val_accuracy: 0.9061\n",
      "Epoch 13/20\n",
      "37024/60000 [=================>............] - ETA: 10s - loss: 0.1044 - accuracy: 0.9613"
     ]
    }
   ],
   "source": [
    "history = model.fit(trainX,trainy,epochs=20,validation_data=(testX,testy))"
   ]
  },
  {
   "cell_type": "code",
   "execution_count": 19,
   "metadata": {},
   "outputs": [
    {
     "name": "stdout",
     "output_type": "stream",
     "text": [
      "10000/10000 [==============================] - 1s 146us/sample - loss: 0.4128 - accuracy: 0.9033\n"
     ]
    },
    {
     "data": {
      "text/plain": [
       "[0.4127668918550014, 0.9033]"
      ]
     },
     "execution_count": 19,
     "metadata": {},
     "output_type": "execute_result"
    }
   ],
   "source": [
    "model.evaluate(testX,testy)"
   ]
  },
  {
   "cell_type": "code",
   "execution_count": null,
   "metadata": {},
   "outputs": [],
   "source": []
  }
 ],
 "metadata": {
  "kernelspec": {
   "display_name": "Python 3",
   "language": "python",
   "name": "python3"
  },
  "language_info": {
   "codemirror_mode": {
    "name": "ipython",
    "version": 3
   },
   "file_extension": ".py",
   "mimetype": "text/x-python",
   "name": "python",
   "nbconvert_exporter": "python",
   "pygments_lexer": "ipython3",
   "version": "3.6.5"
  }
 },
 "nbformat": 4,
 "nbformat_minor": 2
}
