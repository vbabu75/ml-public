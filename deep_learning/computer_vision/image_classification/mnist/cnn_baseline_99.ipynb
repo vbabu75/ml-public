{
 "cells": [
  {
   "cell_type": "code",
   "execution_count": 1,
   "metadata": {},
   "outputs": [
    {
     "name": "stderr",
     "output_type": "stream",
     "text": [
      "/home/ubuntu/anaconda3/envs/tensorflow_p36/lib/python3.6/site-packages/matplotlib/font_manager.py:278: UserWarning: Matplotlib is building the font cache using fc-list. This may take a moment.\n",
      "  'Matplotlib is building the font cache using fc-list. '\n"
     ]
    }
   ],
   "source": [
    "import numpy as np\n",
    "import matplotlib.pyplot as plt\n",
    "%matplotlib inline\n",
    "import tensorflow as tf\n",
    "from tensorflow import keras"
   ]
  },
  {
   "cell_type": "code",
   "execution_count": 2,
   "metadata": {},
   "outputs": [
    {
     "name": "stdout",
     "output_type": "stream",
     "text": [
      "Downloading data from https://storage.googleapis.com/tensorflow/tf-keras-datasets/mnist.npz\n",
      "11493376/11490434 [==============================] - 0s 0us/step\n",
      "(60000, 28, 28, 1) (60000,) (10000, 28, 28, 1) (10000,)\n"
     ]
    }
   ],
   "source": [
    "# load the data\n",
    "(trainX,trainy),(testX,testy) = keras.datasets.mnist.load_data()\n",
    "trainX = trainX/255.0\n",
    "testX = testX/255.0\n",
    "trainX = tf.expand_dims(trainX,-1)\n",
    "testX = tf.expand_dims(testX,-1)\n",
    "print(trainX.shape,trainy.shape,testX.shape,testy.shape)"
   ]
  },
  {
   "cell_type": "code",
   "execution_count": 3,
   "metadata": {},
   "outputs": [],
   "source": [
    "def build_model ():\n",
    "    model = keras.models.Sequential([\n",
    "        keras.layers.Conv2D(32,(3,3),activation='relu',input_shape=(28,28,1)),\n",
    "        keras.layers.MaxPool2D((2,2)),\n",
    "        keras.layers.Conv2D(64,(3,3),activation='relu'),\n",
    "        keras.layers.MaxPool2D((2,2)),\n",
    "        keras.layers.Conv2D(64,(3,3),activation='relu'),\n",
    "        keras.layers.Flatten(),\n",
    "        keras.layers.Dense(64,activation='relu'),\n",
    "        keras.layers.Dense(10,activation='softmax')\n",
    "    ])\n",
    "    model.compile(optimizer='adam',\n",
    "                 loss = 'sparse_categorical_crossentropy',\n",
    "                 metrics=['accuracy'])\n",
    "    model.summary()\n",
    "    return model\n",
    "    "
   ]
  },
  {
   "cell_type": "code",
   "execution_count": 4,
   "metadata": {},
   "outputs": [
    {
     "name": "stdout",
     "output_type": "stream",
     "text": [
      "Model: \"sequential\"\n",
      "_________________________________________________________________\n",
      "Layer (type)                 Output Shape              Param #   \n",
      "=================================================================\n",
      "conv2d (Conv2D)              (None, 26, 26, 32)        320       \n",
      "_________________________________________________________________\n",
      "max_pooling2d (MaxPooling2D) (None, 13, 13, 32)        0         \n",
      "_________________________________________________________________\n",
      "conv2d_1 (Conv2D)            (None, 11, 11, 64)        18496     \n",
      "_________________________________________________________________\n",
      "max_pooling2d_1 (MaxPooling2 (None, 5, 5, 64)          0         \n",
      "_________________________________________________________________\n",
      "conv2d_2 (Conv2D)            (None, 3, 3, 64)          36928     \n",
      "_________________________________________________________________\n",
      "flatten (Flatten)            (None, 576)               0         \n",
      "_________________________________________________________________\n",
      "dense (Dense)                (None, 64)                36928     \n",
      "_________________________________________________________________\n",
      "dense_1 (Dense)              (None, 10)                650       \n",
      "=================================================================\n",
      "Total params: 93,322\n",
      "Trainable params: 93,322\n",
      "Non-trainable params: 0\n",
      "_________________________________________________________________\n"
     ]
    }
   ],
   "source": [
    "model = build_model()"
   ]
  },
  {
   "cell_type": "code",
   "execution_count": 5,
   "metadata": {},
   "outputs": [
    {
     "name": "stdout",
     "output_type": "stream",
     "text": [
      "Train on 60000 samples, validate on 10000 samples\n",
      "Epoch 1/10\n",
      "60000/60000 [==============================] - 28s 468us/sample - loss: 0.1430 - accuracy: 0.9564 - val_loss: 0.0608 - val_accuracy: 0.9797\n",
      "Epoch 2/10\n",
      "60000/60000 [==============================] - 28s 459us/sample - loss: 0.0469 - accuracy: 0.9857 - val_loss: 0.0333 - val_accuracy: 0.9893\n",
      "Epoch 3/10\n",
      "60000/60000 [==============================] - 28s 461us/sample - loss: 0.0335 - accuracy: 0.9896 - val_loss: 0.0434 - val_accuracy: 0.9862\n",
      "Epoch 4/10\n",
      "60000/60000 [==============================] - 28s 470us/sample - loss: 0.0269 - accuracy: 0.9916 - val_loss: 0.0333 - val_accuracy: 0.9895\n",
      "Epoch 5/10\n",
      "60000/60000 [==============================] - 28s 470us/sample - loss: 0.0206 - accuracy: 0.9937 - val_loss: 0.0332 - val_accuracy: 0.9908\n",
      "Epoch 6/10\n",
      "60000/60000 [==============================] - 27s 456us/sample - loss: 0.0165 - accuracy: 0.9944 - val_loss: 0.0352 - val_accuracy: 0.9896\n",
      "Epoch 7/10\n",
      "60000/60000 [==============================] - 27s 456us/sample - loss: 0.0144 - accuracy: 0.9954 - val_loss: 0.0386 - val_accuracy: 0.9899\n",
      "Epoch 8/10\n",
      "60000/60000 [==============================] - 27s 457us/sample - loss: 0.0114 - accuracy: 0.9965 - val_loss: 0.0341 - val_accuracy: 0.9921\n",
      "Epoch 9/10\n",
      "60000/60000 [==============================] - 31s 513us/sample - loss: 0.0099 - accuracy: 0.9969 - val_loss: 0.0305 - val_accuracy: 0.9915\n",
      "Epoch 10/10\n",
      "60000/60000 [==============================] - 42s 700us/sample - loss: 0.0096 - accuracy: 0.9968 - val_loss: 0.0330 - val_accuracy: 0.9918\n"
     ]
    },
    {
     "data": {
      "text/plain": [
       "<tensorflow.python.keras.callbacks.History at 0x7f50ab765828>"
      ]
     },
     "execution_count": 5,
     "metadata": {},
     "output_type": "execute_result"
    }
   ],
   "source": [
    "history = model.fit(trainX,trainy,epochs=10,validation_data=(testX,testy))"
   ]
  },
  {
   "cell_type": "code",
   "execution_count": 6,
   "metadata": {},
   "outputs": [
    {
     "name": "stdout",
     "output_type": "stream",
     "text": [
      "Help on package tensorflow.python.keras.api._v2.keras.datasets in tensorflow.python.keras.api._v2.keras:\n",
      "\n",
      "NAME\n",
      "    tensorflow.python.keras.api._v2.keras.datasets - Keras built-in datasets.\n",
      "\n",
      "PACKAGE CONTENTS\n",
      "    boston_housing (package)\n",
      "    cifar10 (package)\n",
      "    cifar100 (package)\n",
      "    fashion_mnist (package)\n",
      "    imdb (package)\n",
      "    mnist (package)\n",
      "    reuters (package)\n",
      "\n",
      "FILE\n",
      "    /home/ubuntu/anaconda3/envs/tensorflow_p36/lib/python3.6/site-packages/tensorflow/python/keras/api/_v2/keras/datasets/__init__.py\n",
      "\n",
      "\n"
     ]
    }
   ],
   "source": [
    "help(keras.datasets)"
   ]
  },
  {
   "cell_type": "code",
   "execution_count": null,
   "metadata": {},
   "outputs": [],
   "source": []
  }
 ],
 "metadata": {
  "kernelspec": {
   "display_name": "Python 3",
   "language": "python",
   "name": "python3"
  },
  "language_info": {
   "codemirror_mode": {
    "name": "ipython",
    "version": 3
   },
   "file_extension": ".py",
   "mimetype": "text/x-python",
   "name": "python",
   "nbconvert_exporter": "python",
   "pygments_lexer": "ipython3",
   "version": "3.6.5"
  }
 },
 "nbformat": 4,
 "nbformat_minor": 2
}
