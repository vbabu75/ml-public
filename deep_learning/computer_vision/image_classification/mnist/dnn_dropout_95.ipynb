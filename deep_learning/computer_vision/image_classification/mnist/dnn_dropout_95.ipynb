{
 "cells": [
  {
   "cell_type": "code",
   "execution_count": 4,
   "metadata": {},
   "outputs": [],
   "source": [
    "import numpy as np\n",
    "import matplotlib.pyplot as plt\n",
    "%matplotlib inline\n",
    "import tensorflow as tf\n",
    "import tensorflow.keras as keras"
   ]
  },
  {
   "cell_type": "code",
   "execution_count": 3,
   "metadata": {},
   "outputs": [
    {
     "name": "stdout",
     "output_type": "stream",
     "text": [
      "Downloading data from https://storage.googleapis.com/tensorflow/tf-keras-datasets/mnist.npz\n",
      "11493376/11490434 [==============================] - 0s 0us/step\n"
     ]
    }
   ],
   "source": [
    "# load the data\n",
    "(trainX,trainy),(testX,testy) = keras.datasets.mnist.load_data()"
   ]
  },
  {
   "cell_type": "code",
   "execution_count": 6,
   "metadata": {},
   "outputs": [
    {
     "name": "stdout",
     "output_type": "stream",
     "text": [
      "(60000, 28, 28) (60000,) (10000, 28, 28) (10000,)\n"
     ]
    },
    {
     "data": {
      "image/png": "[encoded data removed]",
      "text/plain": [
       "<Figure size 432x288 with 1 Axes>"
      ]
     },
     "metadata": {},
     "output_type": "display_data"
    }
   ],
   "source": [
    "# normalize the data and examine\n",
    "trainX = trainX/255.0\n",
    "testX = testX/255.0\n",
    "print(trainX.shape,trainy.shape,testX.shape,testy.shape)\n",
    "plt.imshow(trainX[7])\n",
    "plt.xlabel(trainy[7])\n",
    "plt.show()"
   ]
  },
  {
   "cell_type": "code",
   "execution_count": 35,
   "metadata": {},
   "outputs": [],
   "source": [
    "def build_model():\n",
    "    model = keras.Sequential([\n",
    "        keras.layers.Flatten(input_shape=(28,28)),\n",
    "        keras.layers.Dense(140,activation='relu'),\n",
    "        keras.layers.Dropout(0.1),\n",
    "        keras.layers.Dense(10,activation='softmax')\n",
    "    ])\n",
    "    model.compile(optimizer='adam',\n",
    "                  loss='sparse_categorical_crossentropy',\n",
    "                  metrics=['accuracy'])\n",
    "    model.summary()\n",
    "    return model"
   ]
  },
  {
   "cell_type": "code",
   "execution_count": 36,
   "metadata": {},
   "outputs": [
    {
     "name": "stdout",
     "output_type": "stream",
     "text": [
      "Model: \"sequential_6\"\n",
      "_________________________________________________________________\n",
      "Layer (type)                 Output Shape              Param #   \n",
      "=================================================================\n",
      "flatten_6 (Flatten)          (None, 784)               0         \n",
      "_________________________________________________________________\n",
      "dense_12 (Dense)             (None, 140)               109900    \n",
      "_________________________________________________________________\n",
      "dropout_5 (Dropout)          (None, 140)               0         \n",
      "_________________________________________________________________\n",
      "dense_13 (Dense)             (None, 10)                1410      \n",
      "=================================================================\n",
      "Total params: 111,310\n",
      "Trainable params: 111,310\n",
      "Non-trainable params: 0\n",
      "_________________________________________________________________\n"
     ]
    }
   ],
   "source": [
    "model = build_model()"
   ]
  },
  {
   "cell_type": "code",
   "execution_count": 37,
   "metadata": {},
   "outputs": [
    {
     "name": "stdout",
     "output_type": "stream",
     "text": [
      "Train on 60000 samples, validate on 10000 samples\n",
      "Epoch 1/15\n",
      "60000/60000 [==============================] - 4s 71us/sample - loss: 1.1805 - accuracy: 0.7105 - val_loss: 0.5819 - val_accuracy: 0.8588\n",
      "Epoch 2/15\n",
      "60000/60000 [==============================] - 4s 64us/sample - loss: 0.4986 - accuracy: 0.8658 - val_loss: 0.3968 - val_accuracy: 0.8966\n",
      "Epoch 3/15\n",
      "60000/60000 [==============================] - 4s 64us/sample - loss: 0.3917 - accuracy: 0.8895 - val_loss: 0.3348 - val_accuracy: 0.9070\n",
      "Epoch 4/15\n",
      "60000/60000 [==============================] - 4s 64us/sample - loss: 0.3484 - accuracy: 0.9003 - val_loss: 0.3060 - val_accuracy: 0.9144\n",
      "Epoch 5/15\n",
      "60000/60000 [==============================] - 4s 64us/sample - loss: 0.3209 - accuracy: 0.9069 - val_loss: 0.2866 - val_accuracy: 0.9174\n",
      "Epoch 6/15\n",
      "60000/60000 [==============================] - 4s 64us/sample - loss: 0.2996 - accuracy: 0.9125 - val_loss: 0.2713 - val_accuracy: 0.9209\n",
      "Epoch 7/15\n",
      "60000/60000 [==============================] - 4s 64us/sample - loss: 0.2830 - accuracy: 0.9164 - val_loss: 0.2572 - val_accuracy: 0.9258\n",
      "Epoch 8/15\n",
      "60000/60000 [==============================] - 4s 64us/sample - loss: 0.2672 - accuracy: 0.9209 - val_loss: 0.2436 - val_accuracy: 0.9283\n",
      "Epoch 9/15\n",
      "60000/60000 [==============================] - 4s 64us/sample - loss: 0.2549 - accuracy: 0.9246 - val_loss: 0.2317 - val_accuracy: 0.9328\n",
      "Epoch 10/15\n",
      "60000/60000 [==============================] - 4s 64us/sample - loss: 0.2402 - accuracy: 0.9297 - val_loss: 0.2227 - val_accuracy: 0.9338\n",
      "Epoch 11/15\n",
      "60000/60000 [==============================] - 4s 64us/sample - loss: 0.2305 - accuracy: 0.9328 - val_loss: 0.2115 - val_accuracy: 0.9378\n",
      "Epoch 12/15\n",
      "60000/60000 [==============================] - 4s 64us/sample - loss: 0.2199 - accuracy: 0.9362 - val_loss: 0.2004 - val_accuracy: 0.9403\n",
      "Epoch 13/15\n",
      "60000/60000 [==============================] - 4s 64us/sample - loss: 0.2098 - accuracy: 0.9390 - val_loss: 0.1930 - val_accuracy: 0.9427\n",
      "Epoch 14/15\n",
      "60000/60000 [==============================] - 4s 64us/sample - loss: 0.1992 - accuracy: 0.9421 - val_loss: 0.1843 - val_accuracy: 0.9461\n",
      "Epoch 15/15\n",
      "60000/60000 [==============================] - 4s 64us/sample - loss: 0.1916 - accuracy: 0.9446 - val_loss: 0.1786 - val_accuracy: 0.9478\n"
     ]
    }
   ],
   "source": [
    "history = model.fit(trainX,trainy,validation_data=(testX,testy),\n",
    "                    shuffle=True,epochs=15)"
   ]
  },
  {
   "cell_type": "code",
   "execution_count": 38,
   "metadata": {},
   "outputs": [
    {
     "data": {
      "image/png": "[encoded data removed]",
      "text/plain": [
       "<Figure size 432x288 with 1 Axes>"
      ]
     },
     "metadata": {},
     "output_type": "display_data"
    }
   ],
   "source": [
    "plt.plot(history.history['loss'],label='training')\n",
    "plt.plot(history.history['val_loss'],label='val')\n",
    "plt.legend()\n",
    "plt.show()"
   ]
  },
  {
   "cell_type": "code",
   "execution_count": null,
   "metadata": {},
   "outputs": [],
   "source": []
  }
 ],
 "metadata": {
  "kernelspec": {
   "display_name": "Python 3",
   "language": "python",
   "name": "python3"
  },
  "language_info": {
   "codemirror_mode": {
    "name": "ipython",
    "version": 3
   },
   "file_extension": ".py",
   "mimetype": "text/x-python",
   "name": "python",
   "nbconvert_exporter": "python",
   "pygments_lexer": "ipython3",
   "version": "3.6.5"
  }
 },
 "nbformat": 4,
 "nbformat_minor": 2
}
