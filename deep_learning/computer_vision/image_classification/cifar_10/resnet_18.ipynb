{
 "cells": [
  {
   "cell_type": "code",
   "execution_count": null,
   "metadata": {},
   "outputs": [],
   "source": [
    "import numpy as np\n",
    "import matplotlib.pyplot as plt\n",
    "import torch\n",
    "import time\n",
    "import torch.nn as nn\n",
    "from torchvision.datasets import CIFAR10\n",
    "from torchvision import transforms\n",
    "from torch.utils.data import DataLoader\n",
    "from torchvision.models.resnet import resnet18"
   ]
  },
  {
   "cell_type": "code",
   "execution_count": null,
   "metadata": {},
   "outputs": [],
   "source": [
    "device = torch.device(\"cuda:0\" if torch.cuda.is_available() else \"cpu\")\n",
    "print(device)"
   ]
  },
  {
   "cell_type": "code",
   "execution_count": null,
   "metadata": {},
   "outputs": [],
   "source": [
    "# Create datasets - Use data augmentation \n",
    "mean = (0.5,0.5,0.5)\n",
    "std = (0.5,0.5,0.5)\n",
    "\n",
    "classes = [\"airplane\",'automobile','bird','cat','deer',\n",
    "          'dog','frog','horse','ship','truck']\n",
    "\n",
    "train_transforms = transforms.Compose([\n",
    "    transforms.Resize((32,32)),\n",
    "    transforms.RandomAffine(0,shear=7,scale=(0.9,1.1)),\n",
    "    transforms.RandomRotation(15),\n",
    "    transforms.RandomHorizontalFlip(),\n",
    "    transforms.ColorJitter(0.1,0.1,0.1),\n",
    "    transforms.ToTensor(),\n",
    "    transforms.Normalize(mean,std)\n",
    "])\n",
    "val_transforms = transforms.Compose([\n",
    "    transforms.Resize((32,32)),\n",
    "    transforms.ToTensor(),\n",
    "    transforms.Normalize(mean,std)\n",
    "])\n",
    "\n",
    "train_ds = CIFAR10(root='cifar10_data',train=True,download=True,transform=train_transforms)\n",
    "val_ds = CIFAR10(root='cifar10_data',train=False,download=True,transform=val_transforms)"
   ]
  },
  {
   "cell_type": "code",
   "execution_count": null,
   "metadata": {},
   "outputs": [],
   "source": [
    "net = resnet18()\n",
    "criterion = nn.CrossEntropyLoss()\n",
    "optimizer = torch.optim.Adam(net.parameters(),lr=0.001)"
   ]
  },
  {
   "cell_type": "code",
   "execution_count": null,
   "metadata": {},
   "outputs": [],
   "source": [
    "epochs = 30\n",
    "train_accuracies=[]\n",
    "val_accuracies=[]\n",
    "train_losses = []\n",
    "val_losses = []\n",
    "for epoch in range(epochs):\n",
    "    t1 = time.time() \n",
    "    total_loss=0\n",
    "    total_correct=0\n",
    "    for index,(samples,labels) in enumerate(train_loader):\n",
    "        samples = samples.to(device)\n",
    "        labels = labels.to(device)\n",
    "        outputs = net.forward(samples)\n",
    "        loss = criterion(outputs,labels)\n",
    "        preds = torch.argmax(outputs,1)\n",
    "        total_loss += loss\n",
    "        total_correct += torch.sum(preds == labels)\n",
    "        \n",
    "        optimizer.zero_grad()\n",
    "        loss.backward()\n",
    "        optimizer.step()\n",
    "        if index % 50==49:\n",
    "            print('.',end='')\n",
    "    with torch.no_grad():\n",
    "        val_loss=0\n",
    "        val_correct=0\n",
    "        for samples,labels in val_loader:\n",
    "            samples = samples.to(device)\n",
    "            labels = labels.to(device)\n",
    "            outputs = net.forward(samples)\n",
    "            loss = criterion(outputs,labels)\n",
    "            preds = torch.argmax(outputs,1)\n",
    "            val_loss += loss\n",
    "            val_correct += torch.sum(preds==labels)\n",
    "        print('\\nEpoch:',epoch+1,\n",
    "             'Training loss:',round(total_loss.item()*batch_size/len(train_ds),3),\n",
    "             'Training accuracy:',round(total_correct.item()/len(train_ds),3),\n",
    "             'Val loss:',round(val_loss.item()*batch_size/len(val_ds),3),\n",
    "             'Val accuracy:',round(val_correct.item()/len(val_ds),3),\n",
    "             'Time taken:',round(time.time()-t1))\n",
    "        train_accuracies.append(round(total_correct.item()/len(train_ds),3))\n",
    "        val_accuracies.append(round(val_correct.item()/len(val_ds),3))\n",
    "        train_losses.append(round(total_loss.item()*batch_size/len(train_ds),3))\n",
    "        val_losses.append(round(val_loss.item()*batch_size/len(val_ds),3))\n",
    "print(\"Training losses:\",train_losses)\n",
    "print(\"Training accuracies:\",train_accuracies)\n",
    "print(\"Validation losses:\",val_losses)\n",
    "print(\"Validation accuracies:\",val_accuracies)"
   ]
  },
  {
   "cell_type": "code",
   "execution_count": null,
   "metadata": {},
   "outputs": [],
   "source": []
  }
 ],
 "metadata": {
  "kernelspec": {
   "display_name": "Python 3",
   "language": "python",
   "name": "python3"
  },
  "language_info": {
   "codemirror_mode": {
    "name": "ipython",
    "version": 3
   },
   "file_extension": ".py",
   "mimetype": "text/x-python",
   "name": "python",
   "nbconvert_exporter": "python",
   "pygments_lexer": "ipython3",
   "version": "3.6.8"
  }
 },
 "nbformat": 4,
 "nbformat_minor": 2
}
