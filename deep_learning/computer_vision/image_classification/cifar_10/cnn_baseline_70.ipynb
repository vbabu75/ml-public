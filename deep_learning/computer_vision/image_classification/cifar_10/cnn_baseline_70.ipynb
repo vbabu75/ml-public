{
 "cells": [
  {
   "cell_type": "code",
   "execution_count": 1,
   "metadata": {},
   "outputs": [],
   "source": [
    "import numpy as np\n",
    "import matplotlib.pyplot as plt\n",
    "%matplotlib inline\n",
    "\n",
    "import tensorflow as tf\n",
    "from tensorflow import keras\n",
    "from tensorflow.keras import datasets,models,layers"
   ]
  },
  {
   "cell_type": "code",
   "execution_count": 6,
   "metadata": {},
   "outputs": [
    {
     "name": "stdout",
     "output_type": "stream",
     "text": [
      "(50000, 32, 32, 3) (50000, 1) (10000, 32, 32, 3) (10000, 1)\n"
     ]
    }
   ],
   "source": [
    "# load the data\n",
    "(trainX,trainy),(testX,testy) = datasets.cifar10.load_data()\n",
    "trainX = trainX/255.0\n",
    "testX = testX/255.0\n",
    "print(trainX.shape,trainy.shape,testX.shape,testy.shape)"
   ]
  },
  {
   "cell_type": "code",
   "execution_count": 10,
   "metadata": {},
   "outputs": [],
   "source": [
    "def build_model():\n",
    "    model = models.Sequential([\n",
    "        layers.Conv2D(32,(3,3),activation='relu',input_shape=(32,32,3)),\n",
    "        layers.MaxPool2D((2,2)),\n",
    "        layers.Conv2D(64,(3,3),activation='relu'),\n",
    "        layers.MaxPool2D((2,2)),\n",
    "        layers.Conv2D(64,(3,3),activation='relu'),\n",
    "        layers.Flatten(),\n",
    "        layers.Dense(64,activation='relu'),\n",
    "        layers.Dense(10,activation='softmax')\n",
    "    ])\n",
    "    model.compile(optimizer='adam',\n",
    "                 loss='sparse_categorical_crossentropy',\n",
    "                 metrics=['accuracy'])\n",
    "    model.summary()\n",
    "    return model"
   ]
  },
  {
   "cell_type": "code",
   "execution_count": 11,
   "metadata": {},
   "outputs": [
    {
     "name": "stdout",
     "output_type": "stream",
     "text": [
      "Model: \"sequential\"\n",
      "_________________________________________________________________\n",
      "Layer (type)                 Output Shape              Param #   \n",
      "=================================================================\n",
      "conv2d_1 (Conv2D)            (None, 30, 30, 32)        896       \n",
      "_________________________________________________________________\n",
      "max_pooling2d_1 (MaxPooling2 (None, 15, 15, 32)        0         \n",
      "_________________________________________________________________\n",
      "conv2d_2 (Conv2D)            (None, 13, 13, 64)        18496     \n",
      "_________________________________________________________________\n",
      "max_pooling2d_2 (MaxPooling2 (None, 6, 6, 64)          0         \n",
      "_________________________________________________________________\n",
      "conv2d_3 (Conv2D)            (None, 4, 4, 64)          36928     \n",
      "_________________________________________________________________\n",
      "flatten (Flatten)            (None, 1024)              0         \n",
      "_________________________________________________________________\n",
      "dense (Dense)                (None, 64)                65600     \n",
      "_________________________________________________________________\n",
      "dense_1 (Dense)              (None, 10)                650       \n",
      "=================================================================\n",
      "Total params: 122,570\n",
      "Trainable params: 122,570\n",
      "Non-trainable params: 0\n",
      "_________________________________________________________________\n"
     ]
    }
   ],
   "source": [
    "model = build_model()"
   ]
  },
  {
   "cell_type": "code",
   "execution_count": 12,
   "metadata": {},
   "outputs": [
    {
     "name": "stdout",
     "output_type": "stream",
     "text": [
      "Train on 50000 samples, validate on 10000 samples\n",
      "Epoch 1/20\n",
      "50000/50000 [==============================] - 33s 667us/sample - loss: 1.4955 - accuracy: 0.4565 - val_loss: 1.2259 - val_accuracy: 0.5636\n",
      "Epoch 2/20\n",
      "50000/50000 [==============================] - 33s 660us/sample - loss: 0.8049 - accuracy: 0.7189 - val_loss: 0.9124 - val_accuracy: 0.6830\n",
      "Epoch 6/20\n",
      "50000/50000 [==============================] - 33s 653us/sample - loss: 0.7369 - accuracy: 0.7441 - val_loss: 0.8554 - val_accuracy: 0.7036\n",
      "Epoch 7/20\n",
      "50000/50000 [==============================] - 33s 655us/sample - loss: 0.6905 - accuracy: 0.7596 - val_loss: 0.8738 - val_accuracy: 0.7042\n",
      "Epoch 8/20\n",
      "50000/50000 [==============================] - 33s 653us/sample - loss: 0.6366 - accuracy: 0.7772 - val_loss: 0.8879 - val_accuracy: 0.7005\n",
      "Epoch 9/20\n",
      "50000/50000 [==============================] - 33s 666us/sample - loss: 0.6004 - accuracy: 0.7891 - val_loss: 0.8800 - val_accuracy: 0.7091\n",
      "Epoch 10/20\n",
      "50000/50000 [==============================] - 33s 654us/sample - loss: 0.5639 - accuracy: 0.8008 - val_loss: 0.8417 - val_accuracy: 0.7227\n",
      "Epoch 11/20\n",
      "50000/50000 [==============================] - 33s 658us/sample - loss: 0.5199 - accuracy: 0.8172 - val_loss: 0.8782 - val_accuracy: 0.7145\n",
      "Epoch 12/20\n",
      "50000/50000 [==============================] - 33s 655us/sample - loss: 0.4875 - accuracy: 0.8276 - val_loss: 0.8888 - val_accuracy: 0.7195\n",
      "Epoch 13/20\n",
      "50000/50000 [==============================] - 33s 657us/sample - loss: 0.4560 - accuracy: 0.8377 - val_loss: 0.9559 - val_accuracy: 0.7134\n",
      "Epoch 14/20\n",
      "50000/50000 [==============================] - 33s 654us/sample - loss: 0.4260 - accuracy: 0.8481 - val_loss: 0.9670 - val_accuracy: 0.7085\n",
      "Epoch 15/20\n",
      "50000/50000 [==============================] - 33s 657us/sample - loss: 0.3920 - accuracy: 0.8609 - val_loss: 0.9943 - val_accuracy: 0.7190\n",
      "Epoch 16/20\n",
      "50000/50000 [==============================] - 33s 654us/sample - loss: 0.3695 - accuracy: 0.8669 - val_loss: 1.1153 - val_accuracy: 0.6973\n",
      "Epoch 17/20\n",
      "50000/50000 [==============================] - 33s 655us/sample - loss: 0.3381 - accuracy: 0.8775 - val_loss: 1.2246 - val_accuracy: 0.6977\n",
      "Epoch 18/20\n",
      "50000/50000 [==============================] - 33s 659us/sample - loss: 0.3164 - accuracy: 0.8848 - val_loss: 1.1916 - val_accuracy: 0.6887\n",
      "Epoch 19/20\n",
      "50000/50000 [==============================] - 33s 658us/sample - loss: 0.2918 - accuracy: 0.8951 - val_loss: 1.2317 - val_accuracy: 0.7052\n",
      "Epoch 20/20\n",
      "50000/50000 [==============================] - 33s 658us/sample - loss: 0.2696 - accuracy: 0.9037 - val_loss: 1.2811 - val_accuracy: 0.7023\n"
     ]
    }
   ],
   "source": [
    "history = model.fit(trainX,trainy,validation_data=(testX,testy),epochs=20)"
   ]
  },
  {
   "cell_type": "code",
   "execution_count": null,
   "metadata": {},
   "outputs": [],
   "source": []
  }
 ],
 "metadata": {
  "kernelspec": {
   "display_name": "Python 3",
   "language": "python",
   "name": "python3"
  },
  "language_info": {
   "codemirror_mode": {
    "name": "ipython",
    "version": 3
   },
   "file_extension": ".py",
   "mimetype": "text/x-python",
   "name": "python",
   "nbconvert_exporter": "python",
   "pygments_lexer": "ipython3",
   "version": "3.6.5"
  }
 },
 "nbformat": 4,
 "nbformat_minor": 2
}
